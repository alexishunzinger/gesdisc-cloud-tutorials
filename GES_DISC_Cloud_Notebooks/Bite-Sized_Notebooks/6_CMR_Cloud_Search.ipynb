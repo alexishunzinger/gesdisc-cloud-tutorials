{
 "cells": [
  {
   "cell_type": "markdown",
   "id": "narrative-walnut",
   "metadata": {
    "id": "narrative-walnut"
   },
   "source": [
    "# Using CMR to View Cloud-Hosted Datasets\n",
    "### Author: Chris Battisto\n",
    "### Date Authored: 1-31-22\n",
    "\n",
    "### Timing\n",
    "\n",
    "Exercise: 15 minutes\n",
    "\n",
    "### Overview\n",
    "\n",
    "This notebook demonstrates how to access cloud-hosted GES DISC granules using the [Commmon Metadata Repository (CMR) API](https://cmr.earthdata.nasa.gov/search/site/docs/search/api.html).\n",
    "\n",
    "### Prerequisites\n",
    "\n",
    "This notebook was written using Python 3.8, and requires these libraries and files: \n",
    "- xarray\n",
    "- S3FS\n",
    "\n",
    "Note: This notebook **will only run in an environment with <code>us-west-2</code> AWS region access**."
   ]
  },
  {
   "cell_type": "markdown",
   "id": "t41Inu8NiQiX",
   "metadata": {
    "id": "t41Inu8NiQiX"
   },
   "source": [
    "### Import Libraries"
   ]
  },
  {
   "cell_type": "code",
   "execution_count": 1,
   "id": "seeing-tonight",
   "metadata": {
    "id": "seeing-tonight"
   },
   "outputs": [],
   "source": [
    "import requests\n",
    "import xarray as xr\n",
    "import s3fs\n"
   ]
  },
  {
   "cell_type": "markdown",
   "id": "russian-night",
   "metadata": {
    "id": "russian-night"
   },
   "source": [
    "### Create a Function for CMR Catalog Requests"
   ]
  },
  {
   "cell_type": "code",
   "execution_count": 2,
   "id": "certified-gather",
   "metadata": {
    "id": "certified-gather"
   },
   "outputs": [],
   "source": [
    "def request_collection(params):\n",
    "    response = requests.get(url,\n",
    "                        params=params,\n",
    "                        headers={\n",
    "                            'Accept': 'application/json',\n",
    "                        }\n",
    "                       )\n",
    "    return response"
   ]
  },
  {
   "cell_type": "markdown",
   "id": "breathing-oxide",
   "metadata": {
    "id": "breathing-oxide"
   },
   "source": [
    "### Search CMR Catalogs and Obtain Data URLs\n",
    "\n",
    "First, check that the CMR catalog can be accessed:"
   ]
  },
  {
   "cell_type": "code",
   "execution_count": 3,
   "id": "introductory-wyoming",
   "metadata": {
    "id": "introductory-wyoming",
    "outputId": "403cd50f-10f9-4bc1-ace1-c623d81345f0"
   },
   "outputs": [
    {
     "name": "stdout",
     "output_type": "stream",
     "text": [
      "200, CMR is accessible\n"
     ]
    }
   ],
   "source": [
    "url = 'https://cmr.earthdata.nasa.gov/search/collections'\n",
    "\n",
    "# Create our request for finding cloud-hosted granules, and check that we can access CMR\n",
    "response = request_collection({\n",
    "                            'cloud_hosted': 'True',\n",
    "                            'has_granules': 'True'\n",
    "                            })\n",
    "\n",
    "if response.status_code == 200:\n",
    "    print(str(response.status_code) + \", CMR is accessible\")\n",
    "else:\n",
    "    print(str(response.status_code) + \", CMR is not accessible, check for outages\")"
   ]
  },
  {
   "cell_type": "markdown",
   "id": "military-basket",
   "metadata": {
    "id": "military-basket"
   },
   "source": [
    "Lets see how many cloud-hosted data collections are currently in the GES DISC CMR catalog:"
   ]
  },
  {
   "cell_type": "code",
   "execution_count": 4,
   "id": "quantitative-appreciation",
   "metadata": {
    "id": "quantitative-appreciation",
    "outputId": "dbc08e57-8b76-4c05-f08a-b57d60c905d0"
   },
   "outputs": [
    {
     "name": "stdout",
     "output_type": "stream",
     "text": [
      "10\n"
     ]
    }
   ],
   "source": [
    "\n",
    "provider = 'GES_DISC'\n",
    "response = request_collection({\n",
    "                            'cloud_hosted': 'True',\n",
    "                            'has_granules': 'True',\n",
    "                            'provider': provider, # Only look for data hosted by GES-DISC\n",
    "                            })\n",
    "\n",
    "# See how many hits are returned\n",
    "hits = int(response.headers['cmr-hits'])\n",
    "print(hits)"
   ]
  },
  {
   "cell_type": "markdown",
   "id": "fatal-outside",
   "metadata": {
    "id": "fatal-outside"
   },
   "source": [
    "Here are the current GES DISC datasets available in the cloud as of March 2022:"
   ]
  },
  {
   "cell_type": "code",
   "execution_count": 5,
   "id": "finished-alignment",
   "metadata": {
    "id": "finished-alignment",
    "outputId": "8cd0299f-cee9-4427-fcdf-d54ad9cb94c2"
   },
   "outputs": [
    {
     "name": "stdout",
     "output_type": "stream",
     "text": [
      "MERRA-2 tavg1_2d_slv_Nx: 2d,1-Hourly,Time-Averaged,Single-Level,Assimilation,Single-Level Diagnostics 0.625 x 0.5 degree V5.12.4 (M2T1NXSLV) at GES DISC\n",
      "GPM IMERG Final Precipitation L3 Half Hourly 0.1 degree x 0.1 degree V06 (GPM_3IMERGHH) at GES DISC\n",
      "Sounder SIPS: Sun Synchronous 13:30 orbit Climate Hyperspectral InfraRed Product (CHIRP): Calibrated Radiances from EOS-Aqua, S-NPP, JPSS-1/NOAA-20, V2 (SNDR13CHRP1) at GES DISC\n",
      "Sounder SIPS: Sun Synchronous 13:30 orbit Climate Hyperspectral InfraRed Product (CHIRP): Calibrated Radiances from EOS-Aqua, V2 (SNDR13CHRP1AQCal) at GES DISC\n",
      "Sounder SIPS: Sun Synchronous 13:30 orbit Climate Hyperspectral InfraRed Product (CHIRP): Calibrated Radiances from JPSS-1/NOAA-20, V2 (SNDR13CHRP1J1Cal) at GES DISC\n",
      "Sounder SIPS: Sun Synchronous 13:30 orbit Climate Hyperspectral InfraRed Product (CHIRP): Calibrated Radiances from S-NPP, V2 (SNDR13CHRP1SNCal) at GES DISC\n",
      "Sounder SIPS: AQUA AIRS IR + MW Level 2 CLIMCAPS: Atmosphere, cloud and surface geophysical state V2 at GES DISC\n",
      "Sounder SIPS: JPSS-1 CrIS Level 2 CLIMCAPS: Atmosphere cloud and surface geophysical state V2 at GES DISC\n",
      "Sounder SIPS: Suomi NPP CrIMSS Level 2 CLIMCAPS Full Spectral Resolution: Atmosphere cloud and surface geophysical state V2 at GES DISC\n",
      "Sounder SIPS: Suomi NPP CrIMSS Level 2 CLIMCAPS Normal Spectral Resolution: Atmosphere cloud and surface geophysical state V2 at GES DISC\n"
     ]
    }
   ],
   "source": [
    "for hit in range(0, hits):\n",
    "    print(response.json()['feed']['entry'][hit]['dataset_id'])\n",
    "    \n",
    "merra_dataset_id = response.json()['feed']['entry'][0]['id']"
   ]
  },
  {
   "cell_type": "markdown",
   "id": "turned-imagination",
   "metadata": {
    "id": "turned-imagination"
   },
   "source": [
    "S3 URLs currently cannot be obtained through the CMR API; instead, they are accessed manually through the Earthdata Cloud search tool, or OPeNDAP, which will be preserved. These dataset directories can have their parent link switched to S3 (for example, change <code>https://goldsmr4.gesdisc.eosdis.nasa.gov/data/MERRA2/</code> to <code>s3://gesdisc-cumulus-prod-protected/MERRA2/</code> for easily switching between cloud-hosted and on-prem data. Remember that datasets like GPM IMERG may have different file organization structures, and it is recommended to use the GES DISC subsetting tool, CMR, or Earthdata Search to generate links.\n",
    "\n",
    "Once we know the date and time of the granule(s) that we want to access, we can simply replace their on-prem links with the 's3' prefix by using Python's <code>replace</code> function."
   ]
  },
  {
   "cell_type": "code",
   "execution_count": 6,
   "id": "sustainable-circle",
   "metadata": {
    "id": "sustainable-circle",
    "outputId": "fee4724d-37a4-463d-ff66-00b97192b098"
   },
   "outputs": [
    {
     "name": "stdout",
     "output_type": "stream",
     "text": [
      "OPeNDAP Link: https://goldsmr4.gesdisc.eosdis.nasa.gov/opendap/MERRA2/M2T1NXSLV.5.12.4/2013/05/MERRA2_400.tavg1_2d_slv_Nx.20130531.nc4\n",
      "S3 Link: s3://gesdisc-cumulus-prod-protected/MERRA2/M2T1NXSLV.5.12.4/2013/05/MERRA2_400.tavg1_2d_slv_Nx.20130531.nc4\n"
     ]
    }
   ],
   "source": [
    "# Paste link generated by GES DISC subsetter\n",
    "\n",
    "merra_opendap_link = 'https://goldsmr4.gesdisc.eosdis.nasa.gov/opendap/MERRA2/M2T1NXSLV.5.12.4/2013/05/MERRA2_400.tavg1_2d_slv_Nx.20130531.nc4'\n",
    "print('OPeNDAP Link:', merra_opendap_link)\n",
    "\n",
    "# Manually replace the on-prem server link with S3 for file list generation\n",
    "merra_s3_link = merra_opendap_link.replace('https://goldsmr4.gesdisc.eosdis.nasa.gov/opendap/', \n",
    "                                 's3://gesdisc-cumulus-prod-protected/')\n",
    "\n",
    "print('S3 Link:', merra_s3_link)\n"
   ]
  },
  {
   "cell_type": "markdown",
   "id": "independent-triple",
   "metadata": {
    "id": "independent-triple"
   },
   "source": [
    "### Obtain S3 credentials and bucket links"
   ]
  },
  {
   "cell_type": "markdown",
   "id": "fresh-reunion",
   "metadata": {
    "id": "fresh-reunion"
   },
   "source": [
    "Remember that the credential token requires a previously generated netrc file, and that it will only last for one hour before needing to be regenerated."
   ]
  },
  {
   "cell_type": "code",
   "execution_count": 7,
   "id": "determined-confidentiality",
   "metadata": {
    "id": "determined-confidentiality",
    "outputId": "095a4f92-0363-4440-d6d2-2a177cd63099"
   },
   "outputs": [
    {
     "data": {
      "text/plain": [
       "s3fs.core.S3FileSystem"
      ]
     },
     "execution_count": 7,
     "metadata": {},
     "output_type": "execute_result"
    }
   ],
   "source": [
    "gesdisc_s3 = \"https://data.gesdisc.earthdata.nasa.gov/s3credentials\"\n",
    "\n",
    "# Define a function for S3 access credentials\n",
    "\n",
    "def begin_s3_direct_access(url: str=gesdisc_s3):\n",
    "    response = requests.get(url).json()\n",
    "    return s3fs.S3FileSystem(key=response['accessKeyId'],\n",
    "                             secret=response['secretAccessKey'],\n",
    "                             token=response['sessionToken'],\n",
    "                             client_kwargs={'region_name':'us-west-2'})\n",
    "\n",
    "fs = begin_s3_direct_access()\n",
    "\n",
    "# Check that the file system is intact as an S3FileSystem object, which means that token is valid\n",
    "# Common causes of rejected S3 access tokens include incorrect passwords stored in the netrc file, or a non-existent netrc file\n",
    "type(fs)"
   ]
  },
  {
   "cell_type": "markdown",
   "id": "4541b214",
   "metadata": {},
   "source": [
    "Finally, we can open the granule in Xarray:"
   ]
  },
  {
   "cell_type": "code",
   "execution_count": 8,
   "id": "sustained-glass",
   "metadata": {
    "id": "sustained-glass"
   },
   "outputs": [
    {
     "data": {
      "text/html": [
       "<div><svg style=\"position: absolute; width: 0; height: 0; overflow: hidden\">\n",
       "<defs>\n",
       "<symbol id=\"icon-database\" viewBox=\"0 0 32 32\">\n",
       "<path d=\"M16 0c-8.837 0-16 2.239-16 5v4c0 2.761 7.163 5 16 5s16-2.239 16-5v-4c0-2.761-7.163-5-16-5z\"></path>\n",
       "<path d=\"M16 17c-8.837 0-16-2.239-16-5v6c0 2.761 7.163 5 16 5s16-2.239 16-5v-6c0 2.761-7.163 5-16 5z\"></path>\n",
       "<path d=\"M16 26c-8.837 0-16-2.239-16-5v6c0 2.761 7.163 5 16 5s16-2.239 16-5v-6c0 2.761-7.163 5-16 5z\"></path>\n",
       "</symbol>\n",
       "<symbol id=\"icon-file-text2\" viewBox=\"0 0 32 32\">\n",
       "<path d=\"M28.681 7.159c-0.694-0.947-1.662-2.053-2.724-3.116s-2.169-2.030-3.116-2.724c-1.612-1.182-2.393-1.319-2.841-1.319h-15.5c-1.378 0-2.5 1.121-2.5 2.5v27c0 1.378 1.122 2.5 2.5 2.5h23c1.378 0 2.5-1.122 2.5-2.5v-19.5c0-0.448-0.137-1.23-1.319-2.841zM24.543 5.457c0.959 0.959 1.712 1.825 2.268 2.543h-4.811v-4.811c0.718 0.556 1.584 1.309 2.543 2.268zM28 29.5c0 0.271-0.229 0.5-0.5 0.5h-23c-0.271 0-0.5-0.229-0.5-0.5v-27c0-0.271 0.229-0.5 0.5-0.5 0 0 15.499-0 15.5 0v7c0 0.552 0.448 1 1 1h7v19.5z\"></path>\n",
       "<path d=\"M23 26h-14c-0.552 0-1-0.448-1-1s0.448-1 1-1h14c0.552 0 1 0.448 1 1s-0.448 1-1 1z\"></path>\n",
       "<path d=\"M23 22h-14c-0.552 0-1-0.448-1-1s0.448-1 1-1h14c0.552 0 1 0.448 1 1s-0.448 1-1 1z\"></path>\n",
       "<path d=\"M23 18h-14c-0.552 0-1-0.448-1-1s0.448-1 1-1h14c0.552 0 1 0.448 1 1s-0.448 1-1 1z\"></path>\n",
       "</symbol>\n",
       "</defs>\n",
       "</svg>\n",
       "<style>/* CSS stylesheet for displaying xarray objects in jupyterlab.\n",
       " *\n",
       " */\n",
       "\n",
       ":root {\n",
       "  --xr-font-color0: var(--jp-content-font-color0, rgba(0, 0, 0, 1));\n",
       "  --xr-font-color2: var(--jp-content-font-color2, rgba(0, 0, 0, 0.54));\n",
       "  --xr-font-color3: var(--jp-content-font-color3, rgba(0, 0, 0, 0.38));\n",
       "  --xr-border-color: var(--jp-border-color2, #e0e0e0);\n",
       "  --xr-disabled-color: var(--jp-layout-color3, #bdbdbd);\n",
       "  --xr-background-color: var(--jp-layout-color0, white);\n",
       "  --xr-background-color-row-even: var(--jp-layout-color1, white);\n",
       "  --xr-background-color-row-odd: var(--jp-layout-color2, #eeeeee);\n",
       "}\n",
       "\n",
       "html[theme=dark],\n",
       "body.vscode-dark {\n",
       "  --xr-font-color0: rgba(255, 255, 255, 1);\n",
       "  --xr-font-color2: rgba(255, 255, 255, 0.54);\n",
       "  --xr-font-color3: rgba(255, 255, 255, 0.38);\n",
       "  --xr-border-color: #1F1F1F;\n",
       "  --xr-disabled-color: #515151;\n",
       "  --xr-background-color: #111111;\n",
       "  --xr-background-color-row-even: #111111;\n",
       "  --xr-background-color-row-odd: #313131;\n",
       "}\n",
       "\n",
       ".xr-wrap {\n",
       "  display: block !important;\n",
       "  min-width: 300px;\n",
       "  max-width: 700px;\n",
       "}\n",
       "\n",
       ".xr-text-repr-fallback {\n",
       "  /* fallback to plain text repr when CSS is not injected (untrusted notebook) */\n",
       "  display: none;\n",
       "}\n",
       "\n",
       ".xr-header {\n",
       "  padding-top: 6px;\n",
       "  padding-bottom: 6px;\n",
       "  margin-bottom: 4px;\n",
       "  border-bottom: solid 1px var(--xr-border-color);\n",
       "}\n",
       "\n",
       ".xr-header > div,\n",
       ".xr-header > ul {\n",
       "  display: inline;\n",
       "  margin-top: 0;\n",
       "  margin-bottom: 0;\n",
       "}\n",
       "\n",
       ".xr-obj-type,\n",
       ".xr-array-name {\n",
       "  margin-left: 2px;\n",
       "  margin-right: 10px;\n",
       "}\n",
       "\n",
       ".xr-obj-type {\n",
       "  color: var(--xr-font-color2);\n",
       "}\n",
       "\n",
       ".xr-sections {\n",
       "  padding-left: 0 !important;\n",
       "  display: grid;\n",
       "  grid-template-columns: 150px auto auto 1fr 20px 20px;\n",
       "}\n",
       "\n",
       ".xr-section-item {\n",
       "  display: contents;\n",
       "}\n",
       "\n",
       ".xr-section-item input {\n",
       "  display: none;\n",
       "}\n",
       "\n",
       ".xr-section-item input + label {\n",
       "  color: var(--xr-disabled-color);\n",
       "}\n",
       "\n",
       ".xr-section-item input:enabled + label {\n",
       "  cursor: pointer;\n",
       "  color: var(--xr-font-color2);\n",
       "}\n",
       "\n",
       ".xr-section-item input:enabled + label:hover {\n",
       "  color: var(--xr-font-color0);\n",
       "}\n",
       "\n",
       ".xr-section-summary {\n",
       "  grid-column: 1;\n",
       "  color: var(--xr-font-color2);\n",
       "  font-weight: 500;\n",
       "}\n",
       "\n",
       ".xr-section-summary > span {\n",
       "  display: inline-block;\n",
       "  padding-left: 0.5em;\n",
       "}\n",
       "\n",
       ".xr-section-summary-in:disabled + label {\n",
       "  color: var(--xr-font-color2);\n",
       "}\n",
       "\n",
       ".xr-section-summary-in + label:before {\n",
       "  display: inline-block;\n",
       "  content: '►';\n",
       "  font-size: 11px;\n",
       "  width: 15px;\n",
       "  text-align: center;\n",
       "}\n",
       "\n",
       ".xr-section-summary-in:disabled + label:before {\n",
       "  color: var(--xr-disabled-color);\n",
       "}\n",
       "\n",
       ".xr-section-summary-in:checked + label:before {\n",
       "  content: '▼';\n",
       "}\n",
       "\n",
       ".xr-section-summary-in:checked + label > span {\n",
       "  display: none;\n",
       "}\n",
       "\n",
       ".xr-section-summary,\n",
       ".xr-section-inline-details {\n",
       "  padding-top: 4px;\n",
       "  padding-bottom: 4px;\n",
       "}\n",
       "\n",
       ".xr-section-inline-details {\n",
       "  grid-column: 2 / -1;\n",
       "}\n",
       "\n",
       ".xr-section-details {\n",
       "  display: none;\n",
       "  grid-column: 1 / -1;\n",
       "  margin-bottom: 5px;\n",
       "}\n",
       "\n",
       ".xr-section-summary-in:checked ~ .xr-section-details {\n",
       "  display: contents;\n",
       "}\n",
       "\n",
       ".xr-array-wrap {\n",
       "  grid-column: 1 / -1;\n",
       "  display: grid;\n",
       "  grid-template-columns: 20px auto;\n",
       "}\n",
       "\n",
       ".xr-array-wrap > label {\n",
       "  grid-column: 1;\n",
       "  vertical-align: top;\n",
       "}\n",
       "\n",
       ".xr-preview {\n",
       "  color: var(--xr-font-color3);\n",
       "}\n",
       "\n",
       ".xr-array-preview,\n",
       ".xr-array-data {\n",
       "  padding: 0 5px !important;\n",
       "  grid-column: 2;\n",
       "}\n",
       "\n",
       ".xr-array-data,\n",
       ".xr-array-in:checked ~ .xr-array-preview {\n",
       "  display: none;\n",
       "}\n",
       "\n",
       ".xr-array-in:checked ~ .xr-array-data,\n",
       ".xr-array-preview {\n",
       "  display: inline-block;\n",
       "}\n",
       "\n",
       ".xr-dim-list {\n",
       "  display: inline-block !important;\n",
       "  list-style: none;\n",
       "  padding: 0 !important;\n",
       "  margin: 0;\n",
       "}\n",
       "\n",
       ".xr-dim-list li {\n",
       "  display: inline-block;\n",
       "  padding: 0;\n",
       "  margin: 0;\n",
       "}\n",
       "\n",
       ".xr-dim-list:before {\n",
       "  content: '(';\n",
       "}\n",
       "\n",
       ".xr-dim-list:after {\n",
       "  content: ')';\n",
       "}\n",
       "\n",
       ".xr-dim-list li:not(:last-child):after {\n",
       "  content: ',';\n",
       "  padding-right: 5px;\n",
       "}\n",
       "\n",
       ".xr-has-index {\n",
       "  font-weight: bold;\n",
       "}\n",
       "\n",
       ".xr-var-list,\n",
       ".xr-var-item {\n",
       "  display: contents;\n",
       "}\n",
       "\n",
       ".xr-var-item > div,\n",
       ".xr-var-item label,\n",
       ".xr-var-item > .xr-var-name span {\n",
       "  background-color: var(--xr-background-color-row-even);\n",
       "  margin-bottom: 0;\n",
       "}\n",
       "\n",
       ".xr-var-item > .xr-var-name:hover span {\n",
       "  padding-right: 5px;\n",
       "}\n",
       "\n",
       ".xr-var-list > li:nth-child(odd) > div,\n",
       ".xr-var-list > li:nth-child(odd) > label,\n",
       ".xr-var-list > li:nth-child(odd) > .xr-var-name span {\n",
       "  background-color: var(--xr-background-color-row-odd);\n",
       "}\n",
       "\n",
       ".xr-var-name {\n",
       "  grid-column: 1;\n",
       "}\n",
       "\n",
       ".xr-var-dims {\n",
       "  grid-column: 2;\n",
       "}\n",
       "\n",
       ".xr-var-dtype {\n",
       "  grid-column: 3;\n",
       "  text-align: right;\n",
       "  color: var(--xr-font-color2);\n",
       "}\n",
       "\n",
       ".xr-var-preview {\n",
       "  grid-column: 4;\n",
       "}\n",
       "\n",
       ".xr-var-name,\n",
       ".xr-var-dims,\n",
       ".xr-var-dtype,\n",
       ".xr-preview,\n",
       ".xr-attrs dt {\n",
       "  white-space: nowrap;\n",
       "  overflow: hidden;\n",
       "  text-overflow: ellipsis;\n",
       "  padding-right: 10px;\n",
       "}\n",
       "\n",
       ".xr-var-name:hover,\n",
       ".xr-var-dims:hover,\n",
       ".xr-var-dtype:hover,\n",
       ".xr-attrs dt:hover {\n",
       "  overflow: visible;\n",
       "  width: auto;\n",
       "  z-index: 1;\n",
       "}\n",
       "\n",
       ".xr-var-attrs,\n",
       ".xr-var-data {\n",
       "  display: none;\n",
       "  background-color: var(--xr-background-color) !important;\n",
       "  padding-bottom: 5px !important;\n",
       "}\n",
       "\n",
       ".xr-var-attrs-in:checked ~ .xr-var-attrs,\n",
       ".xr-var-data-in:checked ~ .xr-var-data {\n",
       "  display: block;\n",
       "}\n",
       "\n",
       ".xr-var-data > table {\n",
       "  float: right;\n",
       "}\n",
       "\n",
       ".xr-var-name span,\n",
       ".xr-var-data,\n",
       ".xr-attrs {\n",
       "  padding-left: 25px !important;\n",
       "}\n",
       "\n",
       ".xr-attrs,\n",
       ".xr-var-attrs,\n",
       ".xr-var-data {\n",
       "  grid-column: 1 / -1;\n",
       "}\n",
       "\n",
       "dl.xr-attrs {\n",
       "  padding: 0;\n",
       "  margin: 0;\n",
       "  display: grid;\n",
       "  grid-template-columns: 125px auto;\n",
       "}\n",
       "\n",
       ".xr-attrs dt,\n",
       ".xr-attrs dd {\n",
       "  padding: 0;\n",
       "  margin: 0;\n",
       "  float: left;\n",
       "  padding-right: 10px;\n",
       "  width: auto;\n",
       "}\n",
       "\n",
       ".xr-attrs dt {\n",
       "  font-weight: normal;\n",
       "  grid-column: 1;\n",
       "}\n",
       "\n",
       ".xr-attrs dt:hover span {\n",
       "  display: inline-block;\n",
       "  background: var(--xr-background-color);\n",
       "  padding-right: 10px;\n",
       "}\n",
       "\n",
       ".xr-attrs dd {\n",
       "  grid-column: 2;\n",
       "  white-space: pre-wrap;\n",
       "  word-break: break-all;\n",
       "}\n",
       "\n",
       ".xr-icon-database,\n",
       ".xr-icon-file-text2 {\n",
       "  display: inline-block;\n",
       "  vertical-align: middle;\n",
       "  width: 1em;\n",
       "  height: 1.5em !important;\n",
       "  stroke-width: 0;\n",
       "  stroke: currentColor;\n",
       "  fill: currentColor;\n",
       "}\n",
       "</style><pre class='xr-text-repr-fallback'>&lt;xarray.Dataset&gt;\n",
       "Dimensions:   (lon: 576, lat: 361, time: 24)\n",
       "Coordinates:\n",
       "  * lon       (lon) float64 -180.0 -179.4 -178.8 -178.1 ... 178.1 178.8 179.4\n",
       "  * lat       (lat) float64 -90.0 -89.5 -89.0 -88.5 ... 88.5 89.0 89.5 90.0\n",
       "  * time      (time) datetime64[ns] 2013-05-31T00:30:00 ... 2013-05-31T23:30:00\n",
       "Data variables: (12/47)\n",
       "    CLDPRS    (time, lat, lon) float32 ...\n",
       "    CLDTMP    (time, lat, lon) float32 ...\n",
       "    DISPH     (time, lat, lon) float32 ...\n",
       "    H1000     (time, lat, lon) float32 ...\n",
       "    H250      (time, lat, lon) float32 ...\n",
       "    H500      (time, lat, lon) float32 ...\n",
       "    ...        ...\n",
       "    V250      (time, lat, lon) float32 ...\n",
       "    V2M       (time, lat, lon) float32 ...\n",
       "    V500      (time, lat, lon) float32 ...\n",
       "    V50M      (time, lat, lon) float32 ...\n",
       "    V850      (time, lat, lon) float32 ...\n",
       "    ZLCL      (time, lat, lon) float32 ...\n",
       "Attributes: (12/30)\n",
       "    History:                           Original file generated: Wed Oct  1 13...\n",
       "    Comment:                           GMAO filename: d5124_m2_jan10.tavg1_2d...\n",
       "    Filename:                          MERRA2_400.tavg1_2d_slv_Nx.20130531.nc4\n",
       "    Conventions:                       CF-1\n",
       "    Institution:                       NASA Global Modeling and Assimilation ...\n",
       "    References:                        http://gmao.gsfc.nasa.gov\n",
       "    ...                                ...\n",
       "    Contact:                           http://gmao.gsfc.nasa.gov\n",
       "    identifier_product_doi:            10.5067/VJAFPLI1CSIV\n",
       "    RangeBeginningDate:                2013-05-31\n",
       "    RangeBeginningTime:                00:00:00.000000\n",
       "    RangeEndingDate:                   2013-05-31\n",
       "    RangeEndingTime:                   23:59:59.000000</pre><div class='xr-wrap' style='display:none'><div class='xr-header'><div class='xr-obj-type'>xarray.Dataset</div></div><ul class='xr-sections'><li class='xr-section-item'><input id='section-9e8d766c-ebc4-4725-b150-8a8e1b2ed7ae' class='xr-section-summary-in' type='checkbox' disabled ><label for='section-9e8d766c-ebc4-4725-b150-8a8e1b2ed7ae' class='xr-section-summary'  title='Expand/collapse section'>Dimensions:</label><div class='xr-section-inline-details'><ul class='xr-dim-list'><li><span class='xr-has-index'>lon</span>: 576</li><li><span class='xr-has-index'>lat</span>: 361</li><li><span class='xr-has-index'>time</span>: 24</li></ul></div><div class='xr-section-details'></div></li><li class='xr-section-item'><input id='section-d4d3a5e3-4c8e-46e0-8035-421dd5add4ef' class='xr-section-summary-in' type='checkbox'  checked><label for='section-d4d3a5e3-4c8e-46e0-8035-421dd5add4ef' class='xr-section-summary' >Coordinates: <span>(3)</span></label><div class='xr-section-inline-details'></div><div class='xr-section-details'><ul class='xr-var-list'><li class='xr-var-item'><div class='xr-var-name'><span class='xr-has-index'>lon</span></div><div class='xr-var-dims'>(lon)</div><div class='xr-var-dtype'>float64</div><div class='xr-var-preview xr-preview'>-180.0 -179.4 ... 178.8 179.4</div><input id='attrs-83ec4a2c-7044-40b1-8b50-ab9db7e90950' class='xr-var-attrs-in' type='checkbox' ><label for='attrs-83ec4a2c-7044-40b1-8b50-ab9db7e90950' title='Show/Hide attributes'><svg class='icon xr-icon-file-text2'><use xlink:href='#icon-file-text2'></use></svg></label><input id='data-73ca5b56-a273-4b5e-bad6-3a4d13588ac1' class='xr-var-data-in' type='checkbox'><label for='data-73ca5b56-a273-4b5e-bad6-3a4d13588ac1' title='Show/Hide data repr'><svg class='icon xr-icon-database'><use xlink:href='#icon-database'></use></svg></label><div class='xr-var-attrs'><dl class='xr-attrs'><dt><span>long_name :</span></dt><dd>longitude</dd><dt><span>units :</span></dt><dd>degrees_east</dd><dt><span>vmax :</span></dt><dd>1000000000000000.0</dd><dt><span>vmin :</span></dt><dd>-1000000000000000.0</dd><dt><span>valid_range :</span></dt><dd>[-1.e+15  1.e+15]</dd></dl></div><div class='xr-var-data'><pre>array([-180.   , -179.375, -178.75 , ...,  178.125,  178.75 ,  179.375])</pre></div></li><li class='xr-var-item'><div class='xr-var-name'><span class='xr-has-index'>lat</span></div><div class='xr-var-dims'>(lat)</div><div class='xr-var-dtype'>float64</div><div class='xr-var-preview xr-preview'>-90.0 -89.5 -89.0 ... 89.5 90.0</div><input id='attrs-0897efbc-8b10-45a7-a458-aa7b54b009fb' class='xr-var-attrs-in' type='checkbox' ><label for='attrs-0897efbc-8b10-45a7-a458-aa7b54b009fb' title='Show/Hide attributes'><svg class='icon xr-icon-file-text2'><use xlink:href='#icon-file-text2'></use></svg></label><input id='data-4d57df2a-6e49-44e8-8840-9aeafccc44cf' class='xr-var-data-in' type='checkbox'><label for='data-4d57df2a-6e49-44e8-8840-9aeafccc44cf' title='Show/Hide data repr'><svg class='icon xr-icon-database'><use xlink:href='#icon-database'></use></svg></label><div class='xr-var-attrs'><dl class='xr-attrs'><dt><span>long_name :</span></dt><dd>latitude</dd><dt><span>units :</span></dt><dd>degrees_north</dd><dt><span>vmax :</span></dt><dd>1000000000000000.0</dd><dt><span>vmin :</span></dt><dd>-1000000000000000.0</dd><dt><span>valid_range :</span></dt><dd>[-1.e+15  1.e+15]</dd></dl></div><div class='xr-var-data'><pre>array([-90. , -89.5, -89. , ...,  89. ,  89.5,  90. ])</pre></div></li><li class='xr-var-item'><div class='xr-var-name'><span class='xr-has-index'>time</span></div><div class='xr-var-dims'>(time)</div><div class='xr-var-dtype'>datetime64[ns]</div><div class='xr-var-preview xr-preview'>2013-05-31T00:30:00 ... 2013-05-...</div><input id='attrs-494e3520-dd1b-4584-a89f-7814c3e9967c' class='xr-var-attrs-in' type='checkbox' ><label for='attrs-494e3520-dd1b-4584-a89f-7814c3e9967c' title='Show/Hide attributes'><svg class='icon xr-icon-file-text2'><use xlink:href='#icon-file-text2'></use></svg></label><input id='data-404484c1-c0df-48ee-b5c9-6be2f73bdfe2' class='xr-var-data-in' type='checkbox'><label for='data-404484c1-c0df-48ee-b5c9-6be2f73bdfe2' title='Show/Hide data repr'><svg class='icon xr-icon-database'><use xlink:href='#icon-database'></use></svg></label><div class='xr-var-attrs'><dl class='xr-attrs'><dt><span>long_name :</span></dt><dd>time</dd><dt><span>time_increment :</span></dt><dd>10000</dd><dt><span>begin_date :</span></dt><dd>20130531</dd><dt><span>begin_time :</span></dt><dd>3000</dd><dt><span>vmax :</span></dt><dd>1000000000000000.0</dd><dt><span>vmin :</span></dt><dd>-1000000000000000.0</dd><dt><span>valid_range :</span></dt><dd>[-1.e+15  1.e+15]</dd></dl></div><div class='xr-var-data'><pre>array([&#x27;2013-05-31T00:30:00.000000000&#x27;, &#x27;2013-05-31T01:30:00.000000000&#x27;,\n",
       "       &#x27;2013-05-31T02:30:00.000000000&#x27;, &#x27;2013-05-31T03:30:00.000000000&#x27;,\n",
       "       &#x27;2013-05-31T04:30:00.000000000&#x27;, &#x27;2013-05-31T05:30:00.000000000&#x27;,\n",
       "       &#x27;2013-05-31T06:30:00.000000000&#x27;, &#x27;2013-05-31T07:30:00.000000000&#x27;,\n",
       "       &#x27;2013-05-31T08:30:00.000000000&#x27;, &#x27;2013-05-31T09:30:00.000000000&#x27;,\n",
       "       &#x27;2013-05-31T10:30:00.000000000&#x27;, &#x27;2013-05-31T11:30:00.000000000&#x27;,\n",
       "       &#x27;2013-05-31T12:30:00.000000000&#x27;, &#x27;2013-05-31T13:30:00.000000000&#x27;,\n",
       "       &#x27;2013-05-31T14:30:00.000000000&#x27;, &#x27;2013-05-31T15:30:00.000000000&#x27;,\n",
       "       &#x27;2013-05-31T16:30:00.000000000&#x27;, &#x27;2013-05-31T17:30:00.000000000&#x27;,\n",
       "       &#x27;2013-05-31T18:30:00.000000000&#x27;, &#x27;2013-05-31T19:30:00.000000000&#x27;,\n",
       "       &#x27;2013-05-31T20:30:00.000000000&#x27;, &#x27;2013-05-31T21:30:00.000000000&#x27;,\n",
       "       &#x27;2013-05-31T22:30:00.000000000&#x27;, &#x27;2013-05-31T23:30:00.000000000&#x27;],\n",
       "      dtype=&#x27;datetime64[ns]&#x27;)</pre></div></li></ul></div></li><li class='xr-section-item'><input id='section-74f39473-8370-4d08-9e2d-02d11eccfb8b' class='xr-section-summary-in' type='checkbox'  ><label for='section-74f39473-8370-4d08-9e2d-02d11eccfb8b' class='xr-section-summary' >Data variables: <span>(47)</span></label><div class='xr-section-inline-details'></div><div class='xr-section-details'><ul class='xr-var-list'><li class='xr-var-item'><div class='xr-var-name'><span>CLDPRS</span></div><div class='xr-var-dims'>(time, lat, lon)</div><div class='xr-var-dtype'>float32</div><div class='xr-var-preview xr-preview'>...</div><input id='attrs-1ca1299e-d76d-4faa-88a6-4f8d1f69b730' class='xr-var-attrs-in' type='checkbox' ><label for='attrs-1ca1299e-d76d-4faa-88a6-4f8d1f69b730' title='Show/Hide attributes'><svg class='icon xr-icon-file-text2'><use xlink:href='#icon-file-text2'></use></svg></label><input id='data-70b7e238-b828-41a0-bb78-f7dfce89a843' class='xr-var-data-in' type='checkbox'><label for='data-70b7e238-b828-41a0-bb78-f7dfce89a843' title='Show/Hide data repr'><svg class='icon xr-icon-database'><use xlink:href='#icon-database'></use></svg></label><div class='xr-var-attrs'><dl class='xr-attrs'><dt><span>long_name :</span></dt><dd>cloud_top_pressure</dd><dt><span>units :</span></dt><dd>Pa</dd><dt><span>fmissing_value :</span></dt><dd>1000000000000000.0</dd><dt><span>standard_name :</span></dt><dd>cloud_top_pressure</dd><dt><span>vmax :</span></dt><dd>1000000000000000.0</dd><dt><span>vmin :</span></dt><dd>-1000000000000000.0</dd><dt><span>valid_range :</span></dt><dd>[-1.e+15  1.e+15]</dd></dl></div><div class='xr-var-data'><pre>[4990464 values with dtype=float32]</pre></div></li><li class='xr-var-item'><div class='xr-var-name'><span>CLDTMP</span></div><div class='xr-var-dims'>(time, lat, lon)</div><div class='xr-var-dtype'>float32</div><div class='xr-var-preview xr-preview'>...</div><input id='attrs-a19d5790-5d54-4f32-8497-598cc41da3cb' class='xr-var-attrs-in' type='checkbox' ><label for='attrs-a19d5790-5d54-4f32-8497-598cc41da3cb' title='Show/Hide attributes'><svg class='icon xr-icon-file-text2'><use xlink:href='#icon-file-text2'></use></svg></label><input id='data-05e2b11c-3ba4-4e65-9450-40905ee9ed28' class='xr-var-data-in' type='checkbox'><label for='data-05e2b11c-3ba4-4e65-9450-40905ee9ed28' title='Show/Hide data repr'><svg class='icon xr-icon-database'><use xlink:href='#icon-database'></use></svg></label><div class='xr-var-attrs'><dl class='xr-attrs'><dt><span>long_name :</span></dt><dd>cloud_top_temperature</dd><dt><span>units :</span></dt><dd>K</dd><dt><span>fmissing_value :</span></dt><dd>1000000000000000.0</dd><dt><span>standard_name :</span></dt><dd>cloud_top_temperature</dd><dt><span>vmax :</span></dt><dd>1000000000000000.0</dd><dt><span>vmin :</span></dt><dd>-1000000000000000.0</dd><dt><span>valid_range :</span></dt><dd>[-1.e+15  1.e+15]</dd></dl></div><div class='xr-var-data'><pre>[4990464 values with dtype=float32]</pre></div></li><li class='xr-var-item'><div class='xr-var-name'><span>DISPH</span></div><div class='xr-var-dims'>(time, lat, lon)</div><div class='xr-var-dtype'>float32</div><div class='xr-var-preview xr-preview'>...</div><input id='attrs-a7f2a8ce-6e90-47df-b9a9-235fbfddf19e' class='xr-var-attrs-in' type='checkbox' ><label for='attrs-a7f2a8ce-6e90-47df-b9a9-235fbfddf19e' title='Show/Hide attributes'><svg class='icon xr-icon-file-text2'><use xlink:href='#icon-file-text2'></use></svg></label><input id='data-9ee01edf-1010-4127-b0a8-bf0ddaf8aa14' class='xr-var-data-in' type='checkbox'><label for='data-9ee01edf-1010-4127-b0a8-bf0ddaf8aa14' title='Show/Hide data repr'><svg class='icon xr-icon-database'><use xlink:href='#icon-database'></use></svg></label><div class='xr-var-attrs'><dl class='xr-attrs'><dt><span>long_name :</span></dt><dd>zero_plane_displacement_height</dd><dt><span>units :</span></dt><dd>m</dd><dt><span>fmissing_value :</span></dt><dd>1000000000000000.0</dd><dt><span>standard_name :</span></dt><dd>zero_plane_displacement_height</dd><dt><span>vmax :</span></dt><dd>1000000000000000.0</dd><dt><span>vmin :</span></dt><dd>-1000000000000000.0</dd><dt><span>valid_range :</span></dt><dd>[-1.e+15  1.e+15]</dd></dl></div><div class='xr-var-data'><pre>[4990464 values with dtype=float32]</pre></div></li><li class='xr-var-item'><div class='xr-var-name'><span>H1000</span></div><div class='xr-var-dims'>(time, lat, lon)</div><div class='xr-var-dtype'>float32</div><div class='xr-var-preview xr-preview'>...</div><input id='attrs-803d1937-6280-4f57-8913-e513d6204311' class='xr-var-attrs-in' type='checkbox' ><label for='attrs-803d1937-6280-4f57-8913-e513d6204311' title='Show/Hide attributes'><svg class='icon xr-icon-file-text2'><use xlink:href='#icon-file-text2'></use></svg></label><input id='data-62aed16b-ecc7-4791-b92c-c3786c48d2cf' class='xr-var-data-in' type='checkbox'><label for='data-62aed16b-ecc7-4791-b92c-c3786c48d2cf' title='Show/Hide data repr'><svg class='icon xr-icon-database'><use xlink:href='#icon-database'></use></svg></label><div class='xr-var-attrs'><dl class='xr-attrs'><dt><span>long_name :</span></dt><dd>height_at_1000_mb</dd><dt><span>units :</span></dt><dd>m</dd><dt><span>fmissing_value :</span></dt><dd>1000000000000000.0</dd><dt><span>standard_name :</span></dt><dd>height_at_1000_mb</dd><dt><span>vmax :</span></dt><dd>1000000000000000.0</dd><dt><span>vmin :</span></dt><dd>-1000000000000000.0</dd><dt><span>valid_range :</span></dt><dd>[-1.e+15  1.e+15]</dd></dl></div><div class='xr-var-data'><pre>[4990464 values with dtype=float32]</pre></div></li><li class='xr-var-item'><div class='xr-var-name'><span>H250</span></div><div class='xr-var-dims'>(time, lat, lon)</div><div class='xr-var-dtype'>float32</div><div class='xr-var-preview xr-preview'>...</div><input id='attrs-561fbccb-c9db-49a5-9463-a8d35cc5ac4f' class='xr-var-attrs-in' type='checkbox' ><label for='attrs-561fbccb-c9db-49a5-9463-a8d35cc5ac4f' title='Show/Hide attributes'><svg class='icon xr-icon-file-text2'><use xlink:href='#icon-file-text2'></use></svg></label><input id='data-630e4bd2-a829-4e58-aa96-b65916d6d621' class='xr-var-data-in' type='checkbox'><label for='data-630e4bd2-a829-4e58-aa96-b65916d6d621' title='Show/Hide data repr'><svg class='icon xr-icon-database'><use xlink:href='#icon-database'></use></svg></label><div class='xr-var-attrs'><dl class='xr-attrs'><dt><span>long_name :</span></dt><dd>height_at_250_hPa</dd><dt><span>units :</span></dt><dd>m</dd><dt><span>fmissing_value :</span></dt><dd>1000000000000000.0</dd><dt><span>standard_name :</span></dt><dd>height_at_250_hPa</dd><dt><span>vmax :</span></dt><dd>1000000000000000.0</dd><dt><span>vmin :</span></dt><dd>-1000000000000000.0</dd><dt><span>valid_range :</span></dt><dd>[-1.e+15  1.e+15]</dd></dl></div><div class='xr-var-data'><pre>[4990464 values with dtype=float32]</pre></div></li><li class='xr-var-item'><div class='xr-var-name'><span>H500</span></div><div class='xr-var-dims'>(time, lat, lon)</div><div class='xr-var-dtype'>float32</div><div class='xr-var-preview xr-preview'>...</div><input id='attrs-78a94d6c-d781-47a4-a24f-e0adcb9ecf89' class='xr-var-attrs-in' type='checkbox' ><label for='attrs-78a94d6c-d781-47a4-a24f-e0adcb9ecf89' title='Show/Hide attributes'><svg class='icon xr-icon-file-text2'><use xlink:href='#icon-file-text2'></use></svg></label><input id='data-6129bc5a-bf85-4cc0-85cb-abf8ec930f53' class='xr-var-data-in' type='checkbox'><label for='data-6129bc5a-bf85-4cc0-85cb-abf8ec930f53' title='Show/Hide data repr'><svg class='icon xr-icon-database'><use xlink:href='#icon-database'></use></svg></label><div class='xr-var-attrs'><dl class='xr-attrs'><dt><span>long_name :</span></dt><dd>height_at_500_hPa</dd><dt><span>units :</span></dt><dd>m</dd><dt><span>fmissing_value :</span></dt><dd>1000000000000000.0</dd><dt><span>standard_name :</span></dt><dd>height_at_500_hPa</dd><dt><span>vmax :</span></dt><dd>1000000000000000.0</dd><dt><span>vmin :</span></dt><dd>-1000000000000000.0</dd><dt><span>valid_range :</span></dt><dd>[-1.e+15  1.e+15]</dd></dl></div><div class='xr-var-data'><pre>[4990464 values with dtype=float32]</pre></div></li><li class='xr-var-item'><div class='xr-var-name'><span>H850</span></div><div class='xr-var-dims'>(time, lat, lon)</div><div class='xr-var-dtype'>float32</div><div class='xr-var-preview xr-preview'>...</div><input id='attrs-ae15db89-ae16-403a-a16d-5e1568be2174' class='xr-var-attrs-in' type='checkbox' ><label for='attrs-ae15db89-ae16-403a-a16d-5e1568be2174' title='Show/Hide attributes'><svg class='icon xr-icon-file-text2'><use xlink:href='#icon-file-text2'></use></svg></label><input id='data-3c848eca-bf3f-4e1a-a881-7332a9a38ac6' class='xr-var-data-in' type='checkbox'><label for='data-3c848eca-bf3f-4e1a-a881-7332a9a38ac6' title='Show/Hide data repr'><svg class='icon xr-icon-database'><use xlink:href='#icon-database'></use></svg></label><div class='xr-var-attrs'><dl class='xr-attrs'><dt><span>long_name :</span></dt><dd>height_at_850_hPa</dd><dt><span>units :</span></dt><dd>m</dd><dt><span>fmissing_value :</span></dt><dd>1000000000000000.0</dd><dt><span>standard_name :</span></dt><dd>height_at_850_hPa</dd><dt><span>vmax :</span></dt><dd>1000000000000000.0</dd><dt><span>vmin :</span></dt><dd>-1000000000000000.0</dd><dt><span>valid_range :</span></dt><dd>[-1.e+15  1.e+15]</dd></dl></div><div class='xr-var-data'><pre>[4990464 values with dtype=float32]</pre></div></li><li class='xr-var-item'><div class='xr-var-name'><span>OMEGA500</span></div><div class='xr-var-dims'>(time, lat, lon)</div><div class='xr-var-dtype'>float32</div><div class='xr-var-preview xr-preview'>...</div><input id='attrs-0ea875c7-aa67-4cc3-a03a-1aae6df80ecb' class='xr-var-attrs-in' type='checkbox' ><label for='attrs-0ea875c7-aa67-4cc3-a03a-1aae6df80ecb' title='Show/Hide attributes'><svg class='icon xr-icon-file-text2'><use xlink:href='#icon-file-text2'></use></svg></label><input id='data-933c9aec-9929-4224-8dbc-75f5a65ff6ee' class='xr-var-data-in' type='checkbox'><label for='data-933c9aec-9929-4224-8dbc-75f5a65ff6ee' title='Show/Hide data repr'><svg class='icon xr-icon-database'><use xlink:href='#icon-database'></use></svg></label><div class='xr-var-attrs'><dl class='xr-attrs'><dt><span>long_name :</span></dt><dd>omega_at_500_hPa</dd><dt><span>units :</span></dt><dd>Pa s-1</dd><dt><span>fmissing_value :</span></dt><dd>1000000000000000.0</dd><dt><span>standard_name :</span></dt><dd>omega_at_500_hPa</dd><dt><span>vmax :</span></dt><dd>1000000000000000.0</dd><dt><span>vmin :</span></dt><dd>-1000000000000000.0</dd><dt><span>valid_range :</span></dt><dd>[-1.e+15  1.e+15]</dd></dl></div><div class='xr-var-data'><pre>[4990464 values with dtype=float32]</pre></div></li><li class='xr-var-item'><div class='xr-var-name'><span>PBLTOP</span></div><div class='xr-var-dims'>(time, lat, lon)</div><div class='xr-var-dtype'>float32</div><div class='xr-var-preview xr-preview'>...</div><input id='attrs-3f5cab2b-ff61-4c8d-a0cb-670b4602b303' class='xr-var-attrs-in' type='checkbox' ><label for='attrs-3f5cab2b-ff61-4c8d-a0cb-670b4602b303' title='Show/Hide attributes'><svg class='icon xr-icon-file-text2'><use xlink:href='#icon-file-text2'></use></svg></label><input id='data-0dfa61d9-f7cc-40e5-a0bc-cb0aaccd8c1e' class='xr-var-data-in' type='checkbox'><label for='data-0dfa61d9-f7cc-40e5-a0bc-cb0aaccd8c1e' title='Show/Hide data repr'><svg class='icon xr-icon-database'><use xlink:href='#icon-database'></use></svg></label><div class='xr-var-attrs'><dl class='xr-attrs'><dt><span>long_name :</span></dt><dd>pbltop_pressure</dd><dt><span>units :</span></dt><dd>Pa</dd><dt><span>fmissing_value :</span></dt><dd>1000000000000000.0</dd><dt><span>standard_name :</span></dt><dd>pbltop_pressure</dd><dt><span>vmax :</span></dt><dd>1000000000000000.0</dd><dt><span>vmin :</span></dt><dd>-1000000000000000.0</dd><dt><span>valid_range :</span></dt><dd>[-1.e+15  1.e+15]</dd></dl></div><div class='xr-var-data'><pre>[4990464 values with dtype=float32]</pre></div></li><li class='xr-var-item'><div class='xr-var-name'><span>PS</span></div><div class='xr-var-dims'>(time, lat, lon)</div><div class='xr-var-dtype'>float32</div><div class='xr-var-preview xr-preview'>...</div><input id='attrs-a26926e5-51cd-4b4d-af3e-cb8ccb1bac4c' class='xr-var-attrs-in' type='checkbox' ><label for='attrs-a26926e5-51cd-4b4d-af3e-cb8ccb1bac4c' title='Show/Hide attributes'><svg class='icon xr-icon-file-text2'><use xlink:href='#icon-file-text2'></use></svg></label><input id='data-ddfdea56-a71d-4d6b-bce1-e6d46ad87eeb' class='xr-var-data-in' type='checkbox'><label for='data-ddfdea56-a71d-4d6b-bce1-e6d46ad87eeb' title='Show/Hide data repr'><svg class='icon xr-icon-database'><use xlink:href='#icon-database'></use></svg></label><div class='xr-var-attrs'><dl class='xr-attrs'><dt><span>long_name :</span></dt><dd>surface_pressure</dd><dt><span>units :</span></dt><dd>Pa</dd><dt><span>fmissing_value :</span></dt><dd>1000000000000000.0</dd><dt><span>standard_name :</span></dt><dd>surface_pressure</dd><dt><span>vmax :</span></dt><dd>1000000000000000.0</dd><dt><span>vmin :</span></dt><dd>-1000000000000000.0</dd><dt><span>valid_range :</span></dt><dd>[-1.e+15  1.e+15]</dd></dl></div><div class='xr-var-data'><pre>[4990464 values with dtype=float32]</pre></div></li><li class='xr-var-item'><div class='xr-var-name'><span>Q250</span></div><div class='xr-var-dims'>(time, lat, lon)</div><div class='xr-var-dtype'>float32</div><div class='xr-var-preview xr-preview'>...</div><input id='attrs-bb7ea62b-d86b-48f4-8279-f139c0dbed3c' class='xr-var-attrs-in' type='checkbox' ><label for='attrs-bb7ea62b-d86b-48f4-8279-f139c0dbed3c' title='Show/Hide attributes'><svg class='icon xr-icon-file-text2'><use xlink:href='#icon-file-text2'></use></svg></label><input id='data-74646b30-59f0-47f0-a48e-87560e59c3cf' class='xr-var-data-in' type='checkbox'><label for='data-74646b30-59f0-47f0-a48e-87560e59c3cf' title='Show/Hide data repr'><svg class='icon xr-icon-database'><use xlink:href='#icon-database'></use></svg></label><div class='xr-var-attrs'><dl class='xr-attrs'><dt><span>long_name :</span></dt><dd>specific_humidity_at_250_hPa</dd><dt><span>units :</span></dt><dd>kg kg-1</dd><dt><span>fmissing_value :</span></dt><dd>1000000000000000.0</dd><dt><span>standard_name :</span></dt><dd>specific_humidity_at_250_hPa</dd><dt><span>vmax :</span></dt><dd>1000000000000000.0</dd><dt><span>vmin :</span></dt><dd>-1000000000000000.0</dd><dt><span>valid_range :</span></dt><dd>[-1.e+15  1.e+15]</dd></dl></div><div class='xr-var-data'><pre>[4990464 values with dtype=float32]</pre></div></li><li class='xr-var-item'><div class='xr-var-name'><span>Q500</span></div><div class='xr-var-dims'>(time, lat, lon)</div><div class='xr-var-dtype'>float32</div><div class='xr-var-preview xr-preview'>...</div><input id='attrs-7caa3520-08c6-4a2e-b958-4001dd9f0a7f' class='xr-var-attrs-in' type='checkbox' ><label for='attrs-7caa3520-08c6-4a2e-b958-4001dd9f0a7f' title='Show/Hide attributes'><svg class='icon xr-icon-file-text2'><use xlink:href='#icon-file-text2'></use></svg></label><input id='data-d0737f04-a2c3-498c-a0af-64a036a19e84' class='xr-var-data-in' type='checkbox'><label for='data-d0737f04-a2c3-498c-a0af-64a036a19e84' title='Show/Hide data repr'><svg class='icon xr-icon-database'><use xlink:href='#icon-database'></use></svg></label><div class='xr-var-attrs'><dl class='xr-attrs'><dt><span>long_name :</span></dt><dd>specific_humidity_at_500_hPa</dd><dt><span>units :</span></dt><dd>kg kg-1</dd><dt><span>fmissing_value :</span></dt><dd>1000000000000000.0</dd><dt><span>standard_name :</span></dt><dd>specific_humidity_at_500_hPa</dd><dt><span>vmax :</span></dt><dd>1000000000000000.0</dd><dt><span>vmin :</span></dt><dd>-1000000000000000.0</dd><dt><span>valid_range :</span></dt><dd>[-1.e+15  1.e+15]</dd></dl></div><div class='xr-var-data'><pre>[4990464 values with dtype=float32]</pre></div></li><li class='xr-var-item'><div class='xr-var-name'><span>Q850</span></div><div class='xr-var-dims'>(time, lat, lon)</div><div class='xr-var-dtype'>float32</div><div class='xr-var-preview xr-preview'>...</div><input id='attrs-f1a949f0-0e61-4f76-87fe-e6899f48751e' class='xr-var-attrs-in' type='checkbox' ><label for='attrs-f1a949f0-0e61-4f76-87fe-e6899f48751e' title='Show/Hide attributes'><svg class='icon xr-icon-file-text2'><use xlink:href='#icon-file-text2'></use></svg></label><input id='data-49da3999-ff9f-4dcd-a1f2-878d592640c0' class='xr-var-data-in' type='checkbox'><label for='data-49da3999-ff9f-4dcd-a1f2-878d592640c0' title='Show/Hide data repr'><svg class='icon xr-icon-database'><use xlink:href='#icon-database'></use></svg></label><div class='xr-var-attrs'><dl class='xr-attrs'><dt><span>long_name :</span></dt><dd>specific_humidity_at_850_hPa</dd><dt><span>units :</span></dt><dd>kg kg-1</dd><dt><span>fmissing_value :</span></dt><dd>1000000000000000.0</dd><dt><span>standard_name :</span></dt><dd>specific_humidity_at_850_hPa</dd><dt><span>vmax :</span></dt><dd>1000000000000000.0</dd><dt><span>vmin :</span></dt><dd>-1000000000000000.0</dd><dt><span>valid_range :</span></dt><dd>[-1.e+15  1.e+15]</dd></dl></div><div class='xr-var-data'><pre>[4990464 values with dtype=float32]</pre></div></li><li class='xr-var-item'><div class='xr-var-name'><span>QV10M</span></div><div class='xr-var-dims'>(time, lat, lon)</div><div class='xr-var-dtype'>float32</div><div class='xr-var-preview xr-preview'>...</div><input id='attrs-3ed712b3-4d58-4b89-af9d-3ff1f3522b72' class='xr-var-attrs-in' type='checkbox' ><label for='attrs-3ed712b3-4d58-4b89-af9d-3ff1f3522b72' title='Show/Hide attributes'><svg class='icon xr-icon-file-text2'><use xlink:href='#icon-file-text2'></use></svg></label><input id='data-e0e3e6a0-cc05-4ad4-9cfb-352403099bd9' class='xr-var-data-in' type='checkbox'><label for='data-e0e3e6a0-cc05-4ad4-9cfb-352403099bd9' title='Show/Hide data repr'><svg class='icon xr-icon-database'><use xlink:href='#icon-database'></use></svg></label><div class='xr-var-attrs'><dl class='xr-attrs'><dt><span>long_name :</span></dt><dd>10-meter_specific_humidity</dd><dt><span>units :</span></dt><dd>kg kg-1</dd><dt><span>fmissing_value :</span></dt><dd>1000000000000000.0</dd><dt><span>standard_name :</span></dt><dd>10-meter_specific_humidity</dd><dt><span>vmax :</span></dt><dd>1000000000000000.0</dd><dt><span>vmin :</span></dt><dd>-1000000000000000.0</dd><dt><span>valid_range :</span></dt><dd>[-1.e+15  1.e+15]</dd></dl></div><div class='xr-var-data'><pre>[4990464 values with dtype=float32]</pre></div></li><li class='xr-var-item'><div class='xr-var-name'><span>QV2M</span></div><div class='xr-var-dims'>(time, lat, lon)</div><div class='xr-var-dtype'>float32</div><div class='xr-var-preview xr-preview'>...</div><input id='attrs-e6774418-6475-463d-a58d-a66edf82ddf9' class='xr-var-attrs-in' type='checkbox' ><label for='attrs-e6774418-6475-463d-a58d-a66edf82ddf9' title='Show/Hide attributes'><svg class='icon xr-icon-file-text2'><use xlink:href='#icon-file-text2'></use></svg></label><input id='data-d418ec55-acd5-48c1-be06-32c7ceb6b4eb' class='xr-var-data-in' type='checkbox'><label for='data-d418ec55-acd5-48c1-be06-32c7ceb6b4eb' title='Show/Hide data repr'><svg class='icon xr-icon-database'><use xlink:href='#icon-database'></use></svg></label><div class='xr-var-attrs'><dl class='xr-attrs'><dt><span>long_name :</span></dt><dd>2-meter_specific_humidity</dd><dt><span>units :</span></dt><dd>kg kg-1</dd><dt><span>fmissing_value :</span></dt><dd>1000000000000000.0</dd><dt><span>standard_name :</span></dt><dd>2-meter_specific_humidity</dd><dt><span>vmax :</span></dt><dd>1000000000000000.0</dd><dt><span>vmin :</span></dt><dd>-1000000000000000.0</dd><dt><span>valid_range :</span></dt><dd>[-1.e+15  1.e+15]</dd></dl></div><div class='xr-var-data'><pre>[4990464 values with dtype=float32]</pre></div></li><li class='xr-var-item'><div class='xr-var-name'><span>SLP</span></div><div class='xr-var-dims'>(time, lat, lon)</div><div class='xr-var-dtype'>float32</div><div class='xr-var-preview xr-preview'>...</div><input id='attrs-58657df8-7a21-4d87-a00d-782b497ff172' class='xr-var-attrs-in' type='checkbox' ><label for='attrs-58657df8-7a21-4d87-a00d-782b497ff172' title='Show/Hide attributes'><svg class='icon xr-icon-file-text2'><use xlink:href='#icon-file-text2'></use></svg></label><input id='data-147b085d-0846-4a1c-9214-a87f3e0e6fe1' class='xr-var-data-in' type='checkbox'><label for='data-147b085d-0846-4a1c-9214-a87f3e0e6fe1' title='Show/Hide data repr'><svg class='icon xr-icon-database'><use xlink:href='#icon-database'></use></svg></label><div class='xr-var-attrs'><dl class='xr-attrs'><dt><span>long_name :</span></dt><dd>sea_level_pressure</dd><dt><span>units :</span></dt><dd>Pa</dd><dt><span>fmissing_value :</span></dt><dd>1000000000000000.0</dd><dt><span>standard_name :</span></dt><dd>sea_level_pressure</dd><dt><span>vmax :</span></dt><dd>1000000000000000.0</dd><dt><span>vmin :</span></dt><dd>-1000000000000000.0</dd><dt><span>valid_range :</span></dt><dd>[-1.e+15  1.e+15]</dd></dl></div><div class='xr-var-data'><pre>[4990464 values with dtype=float32]</pre></div></li><li class='xr-var-item'><div class='xr-var-name'><span>T10M</span></div><div class='xr-var-dims'>(time, lat, lon)</div><div class='xr-var-dtype'>float32</div><div class='xr-var-preview xr-preview'>...</div><input id='attrs-bd498bdc-d9c9-4580-b977-7bc2676a8c20' class='xr-var-attrs-in' type='checkbox' ><label for='attrs-bd498bdc-d9c9-4580-b977-7bc2676a8c20' title='Show/Hide attributes'><svg class='icon xr-icon-file-text2'><use xlink:href='#icon-file-text2'></use></svg></label><input id='data-0bc13a85-389b-4a54-812a-d63cfb80a6a6' class='xr-var-data-in' type='checkbox'><label for='data-0bc13a85-389b-4a54-812a-d63cfb80a6a6' title='Show/Hide data repr'><svg class='icon xr-icon-database'><use xlink:href='#icon-database'></use></svg></label><div class='xr-var-attrs'><dl class='xr-attrs'><dt><span>long_name :</span></dt><dd>10-meter_air_temperature</dd><dt><span>units :</span></dt><dd>K</dd><dt><span>fmissing_value :</span></dt><dd>1000000000000000.0</dd><dt><span>standard_name :</span></dt><dd>10-meter_air_temperature</dd><dt><span>vmax :</span></dt><dd>1000000000000000.0</dd><dt><span>vmin :</span></dt><dd>-1000000000000000.0</dd><dt><span>valid_range :</span></dt><dd>[-1.e+15  1.e+15]</dd></dl></div><div class='xr-var-data'><pre>[4990464 values with dtype=float32]</pre></div></li><li class='xr-var-item'><div class='xr-var-name'><span>T250</span></div><div class='xr-var-dims'>(time, lat, lon)</div><div class='xr-var-dtype'>float32</div><div class='xr-var-preview xr-preview'>...</div><input id='attrs-2ce5ca7e-4e2f-4a67-ae0d-6564488a6444' class='xr-var-attrs-in' type='checkbox' ><label for='attrs-2ce5ca7e-4e2f-4a67-ae0d-6564488a6444' title='Show/Hide attributes'><svg class='icon xr-icon-file-text2'><use xlink:href='#icon-file-text2'></use></svg></label><input id='data-27b0e586-7a49-4532-9e6d-f1e789e17c55' class='xr-var-data-in' type='checkbox'><label for='data-27b0e586-7a49-4532-9e6d-f1e789e17c55' title='Show/Hide data repr'><svg class='icon xr-icon-database'><use xlink:href='#icon-database'></use></svg></label><div class='xr-var-attrs'><dl class='xr-attrs'><dt><span>long_name :</span></dt><dd>air_temperature_at_250_hPa</dd><dt><span>units :</span></dt><dd>K</dd><dt><span>fmissing_value :</span></dt><dd>1000000000000000.0</dd><dt><span>standard_name :</span></dt><dd>air_temperature_at_250_hPa</dd><dt><span>vmax :</span></dt><dd>1000000000000000.0</dd><dt><span>vmin :</span></dt><dd>-1000000000000000.0</dd><dt><span>valid_range :</span></dt><dd>[-1.e+15  1.e+15]</dd></dl></div><div class='xr-var-data'><pre>[4990464 values with dtype=float32]</pre></div></li><li class='xr-var-item'><div class='xr-var-name'><span>T2M</span></div><div class='xr-var-dims'>(time, lat, lon)</div><div class='xr-var-dtype'>float32</div><div class='xr-var-preview xr-preview'>...</div><input id='attrs-95c85a86-46c5-43a4-8409-4ebe4a3e7cac' class='xr-var-attrs-in' type='checkbox' ><label for='attrs-95c85a86-46c5-43a4-8409-4ebe4a3e7cac' title='Show/Hide attributes'><svg class='icon xr-icon-file-text2'><use xlink:href='#icon-file-text2'></use></svg></label><input id='data-4b22d873-02de-4f0a-8a26-e59fbe9561e6' class='xr-var-data-in' type='checkbox'><label for='data-4b22d873-02de-4f0a-8a26-e59fbe9561e6' title='Show/Hide data repr'><svg class='icon xr-icon-database'><use xlink:href='#icon-database'></use></svg></label><div class='xr-var-attrs'><dl class='xr-attrs'><dt><span>long_name :</span></dt><dd>2-meter_air_temperature</dd><dt><span>units :</span></dt><dd>K</dd><dt><span>fmissing_value :</span></dt><dd>1000000000000000.0</dd><dt><span>standard_name :</span></dt><dd>2-meter_air_temperature</dd><dt><span>vmax :</span></dt><dd>1000000000000000.0</dd><dt><span>vmin :</span></dt><dd>-1000000000000000.0</dd><dt><span>valid_range :</span></dt><dd>[-1.e+15  1.e+15]</dd></dl></div><div class='xr-var-data'><pre>[4990464 values with dtype=float32]</pre></div></li><li class='xr-var-item'><div class='xr-var-name'><span>T2MDEW</span></div><div class='xr-var-dims'>(time, lat, lon)</div><div class='xr-var-dtype'>float32</div><div class='xr-var-preview xr-preview'>...</div><input id='attrs-951407bf-03b6-447f-98c6-21898a0c33cf' class='xr-var-attrs-in' type='checkbox' ><label for='attrs-951407bf-03b6-447f-98c6-21898a0c33cf' title='Show/Hide attributes'><svg class='icon xr-icon-file-text2'><use xlink:href='#icon-file-text2'></use></svg></label><input id='data-e9664b20-c92b-4825-8899-0fbb0ae7ff82' class='xr-var-data-in' type='checkbox'><label for='data-e9664b20-c92b-4825-8899-0fbb0ae7ff82' title='Show/Hide data repr'><svg class='icon xr-icon-database'><use xlink:href='#icon-database'></use></svg></label><div class='xr-var-attrs'><dl class='xr-attrs'><dt><span>long_name :</span></dt><dd>dew_point_temperature_at_2_m</dd><dt><span>units :</span></dt><dd>K</dd><dt><span>fmissing_value :</span></dt><dd>1000000000000000.0</dd><dt><span>standard_name :</span></dt><dd>dew_point_temperature_at_2_m</dd><dt><span>vmax :</span></dt><dd>1000000000000000.0</dd><dt><span>vmin :</span></dt><dd>-1000000000000000.0</dd><dt><span>valid_range :</span></dt><dd>[-1.e+15  1.e+15]</dd></dl></div><div class='xr-var-data'><pre>[4990464 values with dtype=float32]</pre></div></li><li class='xr-var-item'><div class='xr-var-name'><span>T2MWET</span></div><div class='xr-var-dims'>(time, lat, lon)</div><div class='xr-var-dtype'>float32</div><div class='xr-var-preview xr-preview'>...</div><input id='attrs-08855d44-4a8c-45ea-8a42-8c27657ab363' class='xr-var-attrs-in' type='checkbox' ><label for='attrs-08855d44-4a8c-45ea-8a42-8c27657ab363' title='Show/Hide attributes'><svg class='icon xr-icon-file-text2'><use xlink:href='#icon-file-text2'></use></svg></label><input id='data-e75c5ff1-cf03-4cc2-92e8-c956b700eb0b' class='xr-var-data-in' type='checkbox'><label for='data-e75c5ff1-cf03-4cc2-92e8-c956b700eb0b' title='Show/Hide data repr'><svg class='icon xr-icon-database'><use xlink:href='#icon-database'></use></svg></label><div class='xr-var-attrs'><dl class='xr-attrs'><dt><span>long_name :</span></dt><dd>wet_bulb_temperature_at_2_m</dd><dt><span>units :</span></dt><dd>K</dd><dt><span>fmissing_value :</span></dt><dd>1000000000000000.0</dd><dt><span>standard_name :</span></dt><dd>wet_bulb_temperature_at_2_m</dd><dt><span>vmax :</span></dt><dd>1000000000000000.0</dd><dt><span>vmin :</span></dt><dd>-1000000000000000.0</dd><dt><span>valid_range :</span></dt><dd>[-1.e+15  1.e+15]</dd></dl></div><div class='xr-var-data'><pre>[4990464 values with dtype=float32]</pre></div></li><li class='xr-var-item'><div class='xr-var-name'><span>T500</span></div><div class='xr-var-dims'>(time, lat, lon)</div><div class='xr-var-dtype'>float32</div><div class='xr-var-preview xr-preview'>...</div><input id='attrs-aeafc992-b70a-44a8-aae8-6f63fb8de53b' class='xr-var-attrs-in' type='checkbox' ><label for='attrs-aeafc992-b70a-44a8-aae8-6f63fb8de53b' title='Show/Hide attributes'><svg class='icon xr-icon-file-text2'><use xlink:href='#icon-file-text2'></use></svg></label><input id='data-2c4b7dad-0391-4f67-85ad-1228346d6faa' class='xr-var-data-in' type='checkbox'><label for='data-2c4b7dad-0391-4f67-85ad-1228346d6faa' title='Show/Hide data repr'><svg class='icon xr-icon-database'><use xlink:href='#icon-database'></use></svg></label><div class='xr-var-attrs'><dl class='xr-attrs'><dt><span>long_name :</span></dt><dd>air_temperature_at_500_hPa</dd><dt><span>units :</span></dt><dd>K</dd><dt><span>fmissing_value :</span></dt><dd>1000000000000000.0</dd><dt><span>standard_name :</span></dt><dd>air_temperature_at_500_hPa</dd><dt><span>vmax :</span></dt><dd>1000000000000000.0</dd><dt><span>vmin :</span></dt><dd>-1000000000000000.0</dd><dt><span>valid_range :</span></dt><dd>[-1.e+15  1.e+15]</dd></dl></div><div class='xr-var-data'><pre>[4990464 values with dtype=float32]</pre></div></li><li class='xr-var-item'><div class='xr-var-name'><span>T850</span></div><div class='xr-var-dims'>(time, lat, lon)</div><div class='xr-var-dtype'>float32</div><div class='xr-var-preview xr-preview'>...</div><input id='attrs-cf56de27-14c7-47b1-bc4f-69830d889497' class='xr-var-attrs-in' type='checkbox' ><label for='attrs-cf56de27-14c7-47b1-bc4f-69830d889497' title='Show/Hide attributes'><svg class='icon xr-icon-file-text2'><use xlink:href='#icon-file-text2'></use></svg></label><input id='data-82ba0760-abe7-4408-bcef-8cae18f3647d' class='xr-var-data-in' type='checkbox'><label for='data-82ba0760-abe7-4408-bcef-8cae18f3647d' title='Show/Hide data repr'><svg class='icon xr-icon-database'><use xlink:href='#icon-database'></use></svg></label><div class='xr-var-attrs'><dl class='xr-attrs'><dt><span>long_name :</span></dt><dd>air_temperature_at_850_hPa</dd><dt><span>units :</span></dt><dd>K</dd><dt><span>fmissing_value :</span></dt><dd>1000000000000000.0</dd><dt><span>standard_name :</span></dt><dd>air_temperature_at_850_hPa</dd><dt><span>vmax :</span></dt><dd>1000000000000000.0</dd><dt><span>vmin :</span></dt><dd>-1000000000000000.0</dd><dt><span>valid_range :</span></dt><dd>[-1.e+15  1.e+15]</dd></dl></div><div class='xr-var-data'><pre>[4990464 values with dtype=float32]</pre></div></li><li class='xr-var-item'><div class='xr-var-name'><span>TO3</span></div><div class='xr-var-dims'>(time, lat, lon)</div><div class='xr-var-dtype'>float32</div><div class='xr-var-preview xr-preview'>...</div><input id='attrs-b774c3d6-cef5-45d4-8e35-4237600b2ba7' class='xr-var-attrs-in' type='checkbox' ><label for='attrs-b774c3d6-cef5-45d4-8e35-4237600b2ba7' title='Show/Hide attributes'><svg class='icon xr-icon-file-text2'><use xlink:href='#icon-file-text2'></use></svg></label><input id='data-b8aec3c2-9c04-4e43-9a1c-33554b26b493' class='xr-var-data-in' type='checkbox'><label for='data-b8aec3c2-9c04-4e43-9a1c-33554b26b493' title='Show/Hide data repr'><svg class='icon xr-icon-database'><use xlink:href='#icon-database'></use></svg></label><div class='xr-var-attrs'><dl class='xr-attrs'><dt><span>long_name :</span></dt><dd>total_column_ozone</dd><dt><span>units :</span></dt><dd>Dobsons</dd><dt><span>fmissing_value :</span></dt><dd>1000000000000000.0</dd><dt><span>standard_name :</span></dt><dd>total_column_ozone</dd><dt><span>vmax :</span></dt><dd>1000000000000000.0</dd><dt><span>vmin :</span></dt><dd>-1000000000000000.0</dd><dt><span>valid_range :</span></dt><dd>[-1.e+15  1.e+15]</dd></dl></div><div class='xr-var-data'><pre>[4990464 values with dtype=float32]</pre></div></li><li class='xr-var-item'><div class='xr-var-name'><span>TOX</span></div><div class='xr-var-dims'>(time, lat, lon)</div><div class='xr-var-dtype'>float32</div><div class='xr-var-preview xr-preview'>...</div><input id='attrs-0e656603-556e-4a2d-9129-5757ff83a92a' class='xr-var-attrs-in' type='checkbox' ><label for='attrs-0e656603-556e-4a2d-9129-5757ff83a92a' title='Show/Hide attributes'><svg class='icon xr-icon-file-text2'><use xlink:href='#icon-file-text2'></use></svg></label><input id='data-3698b6ea-791f-47f6-9024-273c1afbce1e' class='xr-var-data-in' type='checkbox'><label for='data-3698b6ea-791f-47f6-9024-273c1afbce1e' title='Show/Hide data repr'><svg class='icon xr-icon-database'><use xlink:href='#icon-database'></use></svg></label><div class='xr-var-attrs'><dl class='xr-attrs'><dt><span>long_name :</span></dt><dd>total_column_odd_oxygen</dd><dt><span>units :</span></dt><dd>kg m-2</dd><dt><span>fmissing_value :</span></dt><dd>1000000000000000.0</dd><dt><span>standard_name :</span></dt><dd>total_column_odd_oxygen</dd><dt><span>vmax :</span></dt><dd>1000000000000000.0</dd><dt><span>vmin :</span></dt><dd>-1000000000000000.0</dd><dt><span>valid_range :</span></dt><dd>[-1.e+15  1.e+15]</dd></dl></div><div class='xr-var-data'><pre>[4990464 values with dtype=float32]</pre></div></li><li class='xr-var-item'><div class='xr-var-name'><span>TQI</span></div><div class='xr-var-dims'>(time, lat, lon)</div><div class='xr-var-dtype'>float32</div><div class='xr-var-preview xr-preview'>...</div><input id='attrs-53d75ffd-205d-4186-a76f-21d5b531ec2f' class='xr-var-attrs-in' type='checkbox' ><label for='attrs-53d75ffd-205d-4186-a76f-21d5b531ec2f' title='Show/Hide attributes'><svg class='icon xr-icon-file-text2'><use xlink:href='#icon-file-text2'></use></svg></label><input id='data-d79366dc-3cf8-41f5-b8f6-9fde5829282a' class='xr-var-data-in' type='checkbox'><label for='data-d79366dc-3cf8-41f5-b8f6-9fde5829282a' title='Show/Hide data repr'><svg class='icon xr-icon-database'><use xlink:href='#icon-database'></use></svg></label><div class='xr-var-attrs'><dl class='xr-attrs'><dt><span>long_name :</span></dt><dd>total_precipitable_ice_water</dd><dt><span>units :</span></dt><dd>kg m-2</dd><dt><span>fmissing_value :</span></dt><dd>1000000000000000.0</dd><dt><span>standard_name :</span></dt><dd>total_precipitable_ice_water</dd><dt><span>vmax :</span></dt><dd>1000000000000000.0</dd><dt><span>vmin :</span></dt><dd>-1000000000000000.0</dd><dt><span>valid_range :</span></dt><dd>[-1.e+15  1.e+15]</dd></dl></div><div class='xr-var-data'><pre>[4990464 values with dtype=float32]</pre></div></li><li class='xr-var-item'><div class='xr-var-name'><span>TQL</span></div><div class='xr-var-dims'>(time, lat, lon)</div><div class='xr-var-dtype'>float32</div><div class='xr-var-preview xr-preview'>...</div><input id='attrs-11dedd5e-7ff8-455d-af56-7bf1c7f8f712' class='xr-var-attrs-in' type='checkbox' ><label for='attrs-11dedd5e-7ff8-455d-af56-7bf1c7f8f712' title='Show/Hide attributes'><svg class='icon xr-icon-file-text2'><use xlink:href='#icon-file-text2'></use></svg></label><input id='data-d29b8b75-e6fb-445f-bd8c-58a36df4c781' class='xr-var-data-in' type='checkbox'><label for='data-d29b8b75-e6fb-445f-bd8c-58a36df4c781' title='Show/Hide data repr'><svg class='icon xr-icon-database'><use xlink:href='#icon-database'></use></svg></label><div class='xr-var-attrs'><dl class='xr-attrs'><dt><span>long_name :</span></dt><dd>total_precipitable_liquid_water</dd><dt><span>units :</span></dt><dd>kg m-2</dd><dt><span>fmissing_value :</span></dt><dd>1000000000000000.0</dd><dt><span>standard_name :</span></dt><dd>total_precipitable_liquid_water</dd><dt><span>vmax :</span></dt><dd>1000000000000000.0</dd><dt><span>vmin :</span></dt><dd>-1000000000000000.0</dd><dt><span>valid_range :</span></dt><dd>[-1.e+15  1.e+15]</dd></dl></div><div class='xr-var-data'><pre>[4990464 values with dtype=float32]</pre></div></li><li class='xr-var-item'><div class='xr-var-name'><span>TQV</span></div><div class='xr-var-dims'>(time, lat, lon)</div><div class='xr-var-dtype'>float32</div><div class='xr-var-preview xr-preview'>...</div><input id='attrs-5e92aa21-97e2-4d22-af02-51ccf20ddd7a' class='xr-var-attrs-in' type='checkbox' ><label for='attrs-5e92aa21-97e2-4d22-af02-51ccf20ddd7a' title='Show/Hide attributes'><svg class='icon xr-icon-file-text2'><use xlink:href='#icon-file-text2'></use></svg></label><input id='data-013f9878-40e8-4ac4-a94f-f46c4336aff5' class='xr-var-data-in' type='checkbox'><label for='data-013f9878-40e8-4ac4-a94f-f46c4336aff5' title='Show/Hide data repr'><svg class='icon xr-icon-database'><use xlink:href='#icon-database'></use></svg></label><div class='xr-var-attrs'><dl class='xr-attrs'><dt><span>long_name :</span></dt><dd>total_precipitable_water_vapor</dd><dt><span>units :</span></dt><dd>kg m-2</dd><dt><span>fmissing_value :</span></dt><dd>1000000000000000.0</dd><dt><span>standard_name :</span></dt><dd>total_precipitable_water_vapor</dd><dt><span>vmax :</span></dt><dd>1000000000000000.0</dd><dt><span>vmin :</span></dt><dd>-1000000000000000.0</dd><dt><span>valid_range :</span></dt><dd>[-1.e+15  1.e+15]</dd></dl></div><div class='xr-var-data'><pre>[4990464 values with dtype=float32]</pre></div></li><li class='xr-var-item'><div class='xr-var-name'><span>TROPPB</span></div><div class='xr-var-dims'>(time, lat, lon)</div><div class='xr-var-dtype'>float32</div><div class='xr-var-preview xr-preview'>...</div><input id='attrs-41b08562-768f-412b-8d8b-ad7a6498ba61' class='xr-var-attrs-in' type='checkbox' ><label for='attrs-41b08562-768f-412b-8d8b-ad7a6498ba61' title='Show/Hide attributes'><svg class='icon xr-icon-file-text2'><use xlink:href='#icon-file-text2'></use></svg></label><input id='data-a5247064-3364-450e-8071-4e48b588d080' class='xr-var-data-in' type='checkbox'><label for='data-a5247064-3364-450e-8071-4e48b588d080' title='Show/Hide data repr'><svg class='icon xr-icon-database'><use xlink:href='#icon-database'></use></svg></label><div class='xr-var-attrs'><dl class='xr-attrs'><dt><span>long_name :</span></dt><dd>tropopause_pressure_based_on_blended_estimate</dd><dt><span>units :</span></dt><dd>Pa</dd><dt><span>fmissing_value :</span></dt><dd>1000000000000000.0</dd><dt><span>standard_name :</span></dt><dd>tropopause_pressure_based_on_blended_estimate</dd><dt><span>vmax :</span></dt><dd>1000000000000000.0</dd><dt><span>vmin :</span></dt><dd>-1000000000000000.0</dd><dt><span>valid_range :</span></dt><dd>[-1.e+15  1.e+15]</dd></dl></div><div class='xr-var-data'><pre>[4990464 values with dtype=float32]</pre></div></li><li class='xr-var-item'><div class='xr-var-name'><span>TROPPT</span></div><div class='xr-var-dims'>(time, lat, lon)</div><div class='xr-var-dtype'>float32</div><div class='xr-var-preview xr-preview'>...</div><input id='attrs-8dd21153-6599-4724-84e4-0323bbbadc33' class='xr-var-attrs-in' type='checkbox' ><label for='attrs-8dd21153-6599-4724-84e4-0323bbbadc33' title='Show/Hide attributes'><svg class='icon xr-icon-file-text2'><use xlink:href='#icon-file-text2'></use></svg></label><input id='data-cd79903a-3ff5-4cad-ae48-eef5c09919bd' class='xr-var-data-in' type='checkbox'><label for='data-cd79903a-3ff5-4cad-ae48-eef5c09919bd' title='Show/Hide data repr'><svg class='icon xr-icon-database'><use xlink:href='#icon-database'></use></svg></label><div class='xr-var-attrs'><dl class='xr-attrs'><dt><span>long_name :</span></dt><dd>tropopause_pressure_based_on_thermal_estimate</dd><dt><span>units :</span></dt><dd>Pa</dd><dt><span>fmissing_value :</span></dt><dd>1000000000000000.0</dd><dt><span>standard_name :</span></dt><dd>tropopause_pressure_based_on_thermal_estimate</dd><dt><span>vmax :</span></dt><dd>1000000000000000.0</dd><dt><span>vmin :</span></dt><dd>-1000000000000000.0</dd><dt><span>valid_range :</span></dt><dd>[-1.e+15  1.e+15]</dd></dl></div><div class='xr-var-data'><pre>[4990464 values with dtype=float32]</pre></div></li><li class='xr-var-item'><div class='xr-var-name'><span>TROPPV</span></div><div class='xr-var-dims'>(time, lat, lon)</div><div class='xr-var-dtype'>float32</div><div class='xr-var-preview xr-preview'>...</div><input id='attrs-57098213-c16a-4fd6-95fe-d1ba2487c295' class='xr-var-attrs-in' type='checkbox' ><label for='attrs-57098213-c16a-4fd6-95fe-d1ba2487c295' title='Show/Hide attributes'><svg class='icon xr-icon-file-text2'><use xlink:href='#icon-file-text2'></use></svg></label><input id='data-5aa13697-ca44-477b-b1f5-2f2b4f851e8d' class='xr-var-data-in' type='checkbox'><label for='data-5aa13697-ca44-477b-b1f5-2f2b4f851e8d' title='Show/Hide data repr'><svg class='icon xr-icon-database'><use xlink:href='#icon-database'></use></svg></label><div class='xr-var-attrs'><dl class='xr-attrs'><dt><span>long_name :</span></dt><dd>tropopause_pressure_based_on_EPV_estimate</dd><dt><span>units :</span></dt><dd>Pa</dd><dt><span>fmissing_value :</span></dt><dd>1000000000000000.0</dd><dt><span>standard_name :</span></dt><dd>tropopause_pressure_based_on_EPV_estimate</dd><dt><span>vmax :</span></dt><dd>1000000000000000.0</dd><dt><span>vmin :</span></dt><dd>-1000000000000000.0</dd><dt><span>valid_range :</span></dt><dd>[-1.e+15  1.e+15]</dd></dl></div><div class='xr-var-data'><pre>[4990464 values with dtype=float32]</pre></div></li><li class='xr-var-item'><div class='xr-var-name'><span>TROPQ</span></div><div class='xr-var-dims'>(time, lat, lon)</div><div class='xr-var-dtype'>float32</div><div class='xr-var-preview xr-preview'>...</div><input id='attrs-c69274e0-a6ca-465e-830c-3bb8012bd309' class='xr-var-attrs-in' type='checkbox' ><label for='attrs-c69274e0-a6ca-465e-830c-3bb8012bd309' title='Show/Hide attributes'><svg class='icon xr-icon-file-text2'><use xlink:href='#icon-file-text2'></use></svg></label><input id='data-0ca220c6-36c2-4dfa-8231-d0cfe505d169' class='xr-var-data-in' type='checkbox'><label for='data-0ca220c6-36c2-4dfa-8231-d0cfe505d169' title='Show/Hide data repr'><svg class='icon xr-icon-database'><use xlink:href='#icon-database'></use></svg></label><div class='xr-var-attrs'><dl class='xr-attrs'><dt><span>long_name :</span></dt><dd>tropopause_specific_humidity_using_blended_TROPP_estimate</dd><dt><span>units :</span></dt><dd>kg kg-1</dd><dt><span>fmissing_value :</span></dt><dd>1000000000000000.0</dd><dt><span>standard_name :</span></dt><dd>tropopause_specific_humidity_using_blended_TROPP_estimate</dd><dt><span>vmax :</span></dt><dd>1000000000000000.0</dd><dt><span>vmin :</span></dt><dd>-1000000000000000.0</dd><dt><span>valid_range :</span></dt><dd>[-1.e+15  1.e+15]</dd></dl></div><div class='xr-var-data'><pre>[4990464 values with dtype=float32]</pre></div></li><li class='xr-var-item'><div class='xr-var-name'><span>TROPT</span></div><div class='xr-var-dims'>(time, lat, lon)</div><div class='xr-var-dtype'>float32</div><div class='xr-var-preview xr-preview'>...</div><input id='attrs-b44186a9-5aff-4583-b364-35f996a23001' class='xr-var-attrs-in' type='checkbox' ><label for='attrs-b44186a9-5aff-4583-b364-35f996a23001' title='Show/Hide attributes'><svg class='icon xr-icon-file-text2'><use xlink:href='#icon-file-text2'></use></svg></label><input id='data-10d1c6fc-8e44-4abf-989c-7d05991524a9' class='xr-var-data-in' type='checkbox'><label for='data-10d1c6fc-8e44-4abf-989c-7d05991524a9' title='Show/Hide data repr'><svg class='icon xr-icon-database'><use xlink:href='#icon-database'></use></svg></label><div class='xr-var-attrs'><dl class='xr-attrs'><dt><span>long_name :</span></dt><dd>tropopause_temperature_using_blended_TROPP_estimate</dd><dt><span>units :</span></dt><dd>K</dd><dt><span>fmissing_value :</span></dt><dd>1000000000000000.0</dd><dt><span>standard_name :</span></dt><dd>tropopause_temperature_using_blended_TROPP_estimate</dd><dt><span>vmax :</span></dt><dd>1000000000000000.0</dd><dt><span>vmin :</span></dt><dd>-1000000000000000.0</dd><dt><span>valid_range :</span></dt><dd>[-1.e+15  1.e+15]</dd></dl></div><div class='xr-var-data'><pre>[4990464 values with dtype=float32]</pre></div></li><li class='xr-var-item'><div class='xr-var-name'><span>TS</span></div><div class='xr-var-dims'>(time, lat, lon)</div><div class='xr-var-dtype'>float32</div><div class='xr-var-preview xr-preview'>...</div><input id='attrs-11b51e46-0f8f-4b07-a839-3c86528f3b11' class='xr-var-attrs-in' type='checkbox' ><label for='attrs-11b51e46-0f8f-4b07-a839-3c86528f3b11' title='Show/Hide attributes'><svg class='icon xr-icon-file-text2'><use xlink:href='#icon-file-text2'></use></svg></label><input id='data-e1ea2ca3-7bd8-45e3-83ed-26a22ca4fac1' class='xr-var-data-in' type='checkbox'><label for='data-e1ea2ca3-7bd8-45e3-83ed-26a22ca4fac1' title='Show/Hide data repr'><svg class='icon xr-icon-database'><use xlink:href='#icon-database'></use></svg></label><div class='xr-var-attrs'><dl class='xr-attrs'><dt><span>long_name :</span></dt><dd>surface_skin_temperature</dd><dt><span>units :</span></dt><dd>K</dd><dt><span>fmissing_value :</span></dt><dd>1000000000000000.0</dd><dt><span>standard_name :</span></dt><dd>surface_skin_temperature</dd><dt><span>vmax :</span></dt><dd>1000000000000000.0</dd><dt><span>vmin :</span></dt><dd>-1000000000000000.0</dd><dt><span>valid_range :</span></dt><dd>[-1.e+15  1.e+15]</dd></dl></div><div class='xr-var-data'><pre>[4990464 values with dtype=float32]</pre></div></li><li class='xr-var-item'><div class='xr-var-name'><span>U10M</span></div><div class='xr-var-dims'>(time, lat, lon)</div><div class='xr-var-dtype'>float32</div><div class='xr-var-preview xr-preview'>...</div><input id='attrs-08368e0f-e00b-404d-bf53-076a0c3db91b' class='xr-var-attrs-in' type='checkbox' ><label for='attrs-08368e0f-e00b-404d-bf53-076a0c3db91b' title='Show/Hide attributes'><svg class='icon xr-icon-file-text2'><use xlink:href='#icon-file-text2'></use></svg></label><input id='data-f9d16bc0-0045-47ea-b3d7-ba50a1aa01a6' class='xr-var-data-in' type='checkbox'><label for='data-f9d16bc0-0045-47ea-b3d7-ba50a1aa01a6' title='Show/Hide data repr'><svg class='icon xr-icon-database'><use xlink:href='#icon-database'></use></svg></label><div class='xr-var-attrs'><dl class='xr-attrs'><dt><span>long_name :</span></dt><dd>10-meter_eastward_wind</dd><dt><span>units :</span></dt><dd>m s-1</dd><dt><span>fmissing_value :</span></dt><dd>1000000000000000.0</dd><dt><span>standard_name :</span></dt><dd>10-meter_eastward_wind</dd><dt><span>vmax :</span></dt><dd>1000000000000000.0</dd><dt><span>vmin :</span></dt><dd>-1000000000000000.0</dd><dt><span>valid_range :</span></dt><dd>[-1.e+15  1.e+15]</dd></dl></div><div class='xr-var-data'><pre>[4990464 values with dtype=float32]</pre></div></li><li class='xr-var-item'><div class='xr-var-name'><span>U250</span></div><div class='xr-var-dims'>(time, lat, lon)</div><div class='xr-var-dtype'>float32</div><div class='xr-var-preview xr-preview'>...</div><input id='attrs-ef8bea83-98c2-43f8-b69c-b75ec18ca631' class='xr-var-attrs-in' type='checkbox' ><label for='attrs-ef8bea83-98c2-43f8-b69c-b75ec18ca631' title='Show/Hide attributes'><svg class='icon xr-icon-file-text2'><use xlink:href='#icon-file-text2'></use></svg></label><input id='data-2e1ec6ea-a65e-4ef9-be1e-f31cfafbd14f' class='xr-var-data-in' type='checkbox'><label for='data-2e1ec6ea-a65e-4ef9-be1e-f31cfafbd14f' title='Show/Hide data repr'><svg class='icon xr-icon-database'><use xlink:href='#icon-database'></use></svg></label><div class='xr-var-attrs'><dl class='xr-attrs'><dt><span>long_name :</span></dt><dd>eastward_wind_at_250_hPa</dd><dt><span>units :</span></dt><dd>m s-1</dd><dt><span>fmissing_value :</span></dt><dd>1000000000000000.0</dd><dt><span>standard_name :</span></dt><dd>eastward_wind_at_250_hPa</dd><dt><span>vmax :</span></dt><dd>1000000000000000.0</dd><dt><span>vmin :</span></dt><dd>-1000000000000000.0</dd><dt><span>valid_range :</span></dt><dd>[-1.e+15  1.e+15]</dd></dl></div><div class='xr-var-data'><pre>[4990464 values with dtype=float32]</pre></div></li><li class='xr-var-item'><div class='xr-var-name'><span>U2M</span></div><div class='xr-var-dims'>(time, lat, lon)</div><div class='xr-var-dtype'>float32</div><div class='xr-var-preview xr-preview'>...</div><input id='attrs-170a90fc-c1fc-47ae-b3b0-1ec39024ebfd' class='xr-var-attrs-in' type='checkbox' ><label for='attrs-170a90fc-c1fc-47ae-b3b0-1ec39024ebfd' title='Show/Hide attributes'><svg class='icon xr-icon-file-text2'><use xlink:href='#icon-file-text2'></use></svg></label><input id='data-662be811-8cec-47fb-940a-3e78c72f3701' class='xr-var-data-in' type='checkbox'><label for='data-662be811-8cec-47fb-940a-3e78c72f3701' title='Show/Hide data repr'><svg class='icon xr-icon-database'><use xlink:href='#icon-database'></use></svg></label><div class='xr-var-attrs'><dl class='xr-attrs'><dt><span>long_name :</span></dt><dd>2-meter_eastward_wind</dd><dt><span>units :</span></dt><dd>m s-1</dd><dt><span>fmissing_value :</span></dt><dd>1000000000000000.0</dd><dt><span>standard_name :</span></dt><dd>2-meter_eastward_wind</dd><dt><span>vmax :</span></dt><dd>1000000000000000.0</dd><dt><span>vmin :</span></dt><dd>-1000000000000000.0</dd><dt><span>valid_range :</span></dt><dd>[-1.e+15  1.e+15]</dd></dl></div><div class='xr-var-data'><pre>[4990464 values with dtype=float32]</pre></div></li><li class='xr-var-item'><div class='xr-var-name'><span>U500</span></div><div class='xr-var-dims'>(time, lat, lon)</div><div class='xr-var-dtype'>float32</div><div class='xr-var-preview xr-preview'>...</div><input id='attrs-8e79b170-2736-4230-8f14-6a8bda800950' class='xr-var-attrs-in' type='checkbox' ><label for='attrs-8e79b170-2736-4230-8f14-6a8bda800950' title='Show/Hide attributes'><svg class='icon xr-icon-file-text2'><use xlink:href='#icon-file-text2'></use></svg></label><input id='data-8c5a4304-bf34-4690-91a2-3b9d52b04dde' class='xr-var-data-in' type='checkbox'><label for='data-8c5a4304-bf34-4690-91a2-3b9d52b04dde' title='Show/Hide data repr'><svg class='icon xr-icon-database'><use xlink:href='#icon-database'></use></svg></label><div class='xr-var-attrs'><dl class='xr-attrs'><dt><span>long_name :</span></dt><dd>eastward_wind_at_500_hPa</dd><dt><span>units :</span></dt><dd>m s-1</dd><dt><span>fmissing_value :</span></dt><dd>1000000000000000.0</dd><dt><span>standard_name :</span></dt><dd>eastward_wind_at_500_hPa</dd><dt><span>vmax :</span></dt><dd>1000000000000000.0</dd><dt><span>vmin :</span></dt><dd>-1000000000000000.0</dd><dt><span>valid_range :</span></dt><dd>[-1.e+15  1.e+15]</dd></dl></div><div class='xr-var-data'><pre>[4990464 values with dtype=float32]</pre></div></li><li class='xr-var-item'><div class='xr-var-name'><span>U50M</span></div><div class='xr-var-dims'>(time, lat, lon)</div><div class='xr-var-dtype'>float32</div><div class='xr-var-preview xr-preview'>...</div><input id='attrs-1efbc8fc-f025-4432-863d-eac8a19fb9a5' class='xr-var-attrs-in' type='checkbox' ><label for='attrs-1efbc8fc-f025-4432-863d-eac8a19fb9a5' title='Show/Hide attributes'><svg class='icon xr-icon-file-text2'><use xlink:href='#icon-file-text2'></use></svg></label><input id='data-3ba4e4bd-c566-4c47-8ffc-da8948ddb7ac' class='xr-var-data-in' type='checkbox'><label for='data-3ba4e4bd-c566-4c47-8ffc-da8948ddb7ac' title='Show/Hide data repr'><svg class='icon xr-icon-database'><use xlink:href='#icon-database'></use></svg></label><div class='xr-var-attrs'><dl class='xr-attrs'><dt><span>long_name :</span></dt><dd>eastward_wind_at_50_meters</dd><dt><span>units :</span></dt><dd>m s-1</dd><dt><span>fmissing_value :</span></dt><dd>1000000000000000.0</dd><dt><span>standard_name :</span></dt><dd>eastward_wind_at_50_meters</dd><dt><span>vmax :</span></dt><dd>1000000000000000.0</dd><dt><span>vmin :</span></dt><dd>-1000000000000000.0</dd><dt><span>valid_range :</span></dt><dd>[-1.e+15  1.e+15]</dd></dl></div><div class='xr-var-data'><pre>[4990464 values with dtype=float32]</pre></div></li><li class='xr-var-item'><div class='xr-var-name'><span>U850</span></div><div class='xr-var-dims'>(time, lat, lon)</div><div class='xr-var-dtype'>float32</div><div class='xr-var-preview xr-preview'>...</div><input id='attrs-85f0e41a-295b-4266-9fed-009912ed582c' class='xr-var-attrs-in' type='checkbox' ><label for='attrs-85f0e41a-295b-4266-9fed-009912ed582c' title='Show/Hide attributes'><svg class='icon xr-icon-file-text2'><use xlink:href='#icon-file-text2'></use></svg></label><input id='data-bf1afa54-9d77-4795-b008-d620aca15f69' class='xr-var-data-in' type='checkbox'><label for='data-bf1afa54-9d77-4795-b008-d620aca15f69' title='Show/Hide data repr'><svg class='icon xr-icon-database'><use xlink:href='#icon-database'></use></svg></label><div class='xr-var-attrs'><dl class='xr-attrs'><dt><span>long_name :</span></dt><dd>eastward_wind_at_850_hPa</dd><dt><span>units :</span></dt><dd>m s-1</dd><dt><span>fmissing_value :</span></dt><dd>1000000000000000.0</dd><dt><span>standard_name :</span></dt><dd>eastward_wind_at_850_hPa</dd><dt><span>vmax :</span></dt><dd>1000000000000000.0</dd><dt><span>vmin :</span></dt><dd>-1000000000000000.0</dd><dt><span>valid_range :</span></dt><dd>[-1.e+15  1.e+15]</dd></dl></div><div class='xr-var-data'><pre>[4990464 values with dtype=float32]</pre></div></li><li class='xr-var-item'><div class='xr-var-name'><span>V10M</span></div><div class='xr-var-dims'>(time, lat, lon)</div><div class='xr-var-dtype'>float32</div><div class='xr-var-preview xr-preview'>...</div><input id='attrs-57d482b4-af19-4470-a260-e704953c38ca' class='xr-var-attrs-in' type='checkbox' ><label for='attrs-57d482b4-af19-4470-a260-e704953c38ca' title='Show/Hide attributes'><svg class='icon xr-icon-file-text2'><use xlink:href='#icon-file-text2'></use></svg></label><input id='data-723eb2e9-1629-4ad0-8121-a609a175ba07' class='xr-var-data-in' type='checkbox'><label for='data-723eb2e9-1629-4ad0-8121-a609a175ba07' title='Show/Hide data repr'><svg class='icon xr-icon-database'><use xlink:href='#icon-database'></use></svg></label><div class='xr-var-attrs'><dl class='xr-attrs'><dt><span>long_name :</span></dt><dd>10-meter_northward_wind</dd><dt><span>units :</span></dt><dd>m s-1</dd><dt><span>fmissing_value :</span></dt><dd>1000000000000000.0</dd><dt><span>standard_name :</span></dt><dd>10-meter_northward_wind</dd><dt><span>vmax :</span></dt><dd>1000000000000000.0</dd><dt><span>vmin :</span></dt><dd>-1000000000000000.0</dd><dt><span>valid_range :</span></dt><dd>[-1.e+15  1.e+15]</dd></dl></div><div class='xr-var-data'><pre>[4990464 values with dtype=float32]</pre></div></li><li class='xr-var-item'><div class='xr-var-name'><span>V250</span></div><div class='xr-var-dims'>(time, lat, lon)</div><div class='xr-var-dtype'>float32</div><div class='xr-var-preview xr-preview'>...</div><input id='attrs-d27c109b-fc0a-4ef2-a352-1cc73bc3e525' class='xr-var-attrs-in' type='checkbox' ><label for='attrs-d27c109b-fc0a-4ef2-a352-1cc73bc3e525' title='Show/Hide attributes'><svg class='icon xr-icon-file-text2'><use xlink:href='#icon-file-text2'></use></svg></label><input id='data-95b60b5b-10ba-47e8-9a2b-b6cfb69cd455' class='xr-var-data-in' type='checkbox'><label for='data-95b60b5b-10ba-47e8-9a2b-b6cfb69cd455' title='Show/Hide data repr'><svg class='icon xr-icon-database'><use xlink:href='#icon-database'></use></svg></label><div class='xr-var-attrs'><dl class='xr-attrs'><dt><span>long_name :</span></dt><dd>northward_wind_at_250_hPa</dd><dt><span>units :</span></dt><dd>m s-1</dd><dt><span>fmissing_value :</span></dt><dd>1000000000000000.0</dd><dt><span>standard_name :</span></dt><dd>northward_wind_at_250_hPa</dd><dt><span>vmax :</span></dt><dd>1000000000000000.0</dd><dt><span>vmin :</span></dt><dd>-1000000000000000.0</dd><dt><span>valid_range :</span></dt><dd>[-1.e+15  1.e+15]</dd></dl></div><div class='xr-var-data'><pre>[4990464 values with dtype=float32]</pre></div></li><li class='xr-var-item'><div class='xr-var-name'><span>V2M</span></div><div class='xr-var-dims'>(time, lat, lon)</div><div class='xr-var-dtype'>float32</div><div class='xr-var-preview xr-preview'>...</div><input id='attrs-2af42c99-d407-4d63-b1ad-0254d2e8b0f7' class='xr-var-attrs-in' type='checkbox' ><label for='attrs-2af42c99-d407-4d63-b1ad-0254d2e8b0f7' title='Show/Hide attributes'><svg class='icon xr-icon-file-text2'><use xlink:href='#icon-file-text2'></use></svg></label><input id='data-c6a3a974-9f71-4019-a6a9-a1a810889a8b' class='xr-var-data-in' type='checkbox'><label for='data-c6a3a974-9f71-4019-a6a9-a1a810889a8b' title='Show/Hide data repr'><svg class='icon xr-icon-database'><use xlink:href='#icon-database'></use></svg></label><div class='xr-var-attrs'><dl class='xr-attrs'><dt><span>long_name :</span></dt><dd>2-meter_northward_wind</dd><dt><span>units :</span></dt><dd>m s-1</dd><dt><span>fmissing_value :</span></dt><dd>1000000000000000.0</dd><dt><span>standard_name :</span></dt><dd>2-meter_northward_wind</dd><dt><span>vmax :</span></dt><dd>1000000000000000.0</dd><dt><span>vmin :</span></dt><dd>-1000000000000000.0</dd><dt><span>valid_range :</span></dt><dd>[-1.e+15  1.e+15]</dd></dl></div><div class='xr-var-data'><pre>[4990464 values with dtype=float32]</pre></div></li><li class='xr-var-item'><div class='xr-var-name'><span>V500</span></div><div class='xr-var-dims'>(time, lat, lon)</div><div class='xr-var-dtype'>float32</div><div class='xr-var-preview xr-preview'>...</div><input id='attrs-2da43af6-20e9-4161-a18f-60c4c3a41ac6' class='xr-var-attrs-in' type='checkbox' ><label for='attrs-2da43af6-20e9-4161-a18f-60c4c3a41ac6' title='Show/Hide attributes'><svg class='icon xr-icon-file-text2'><use xlink:href='#icon-file-text2'></use></svg></label><input id='data-c9be92f9-29ec-4311-8393-a32a4fb722b6' class='xr-var-data-in' type='checkbox'><label for='data-c9be92f9-29ec-4311-8393-a32a4fb722b6' title='Show/Hide data repr'><svg class='icon xr-icon-database'><use xlink:href='#icon-database'></use></svg></label><div class='xr-var-attrs'><dl class='xr-attrs'><dt><span>long_name :</span></dt><dd>northward_wind_at_500_hPa</dd><dt><span>units :</span></dt><dd>m s-1</dd><dt><span>fmissing_value :</span></dt><dd>1000000000000000.0</dd><dt><span>standard_name :</span></dt><dd>northward_wind_at_500_hPa</dd><dt><span>vmax :</span></dt><dd>1000000000000000.0</dd><dt><span>vmin :</span></dt><dd>-1000000000000000.0</dd><dt><span>valid_range :</span></dt><dd>[-1.e+15  1.e+15]</dd></dl></div><div class='xr-var-data'><pre>[4990464 values with dtype=float32]</pre></div></li><li class='xr-var-item'><div class='xr-var-name'><span>V50M</span></div><div class='xr-var-dims'>(time, lat, lon)</div><div class='xr-var-dtype'>float32</div><div class='xr-var-preview xr-preview'>...</div><input id='attrs-0989c5f1-ddbb-4f47-8a46-0ae03c326242' class='xr-var-attrs-in' type='checkbox' ><label for='attrs-0989c5f1-ddbb-4f47-8a46-0ae03c326242' title='Show/Hide attributes'><svg class='icon xr-icon-file-text2'><use xlink:href='#icon-file-text2'></use></svg></label><input id='data-e7de7e4f-03b7-4b6b-aa06-fa4e9bb7b9cc' class='xr-var-data-in' type='checkbox'><label for='data-e7de7e4f-03b7-4b6b-aa06-fa4e9bb7b9cc' title='Show/Hide data repr'><svg class='icon xr-icon-database'><use xlink:href='#icon-database'></use></svg></label><div class='xr-var-attrs'><dl class='xr-attrs'><dt><span>long_name :</span></dt><dd>northward_wind_at_50_meters</dd><dt><span>units :</span></dt><dd>m s-1</dd><dt><span>fmissing_value :</span></dt><dd>1000000000000000.0</dd><dt><span>standard_name :</span></dt><dd>northward_wind_at_50_meters</dd><dt><span>vmax :</span></dt><dd>1000000000000000.0</dd><dt><span>vmin :</span></dt><dd>-1000000000000000.0</dd><dt><span>valid_range :</span></dt><dd>[-1.e+15  1.e+15]</dd></dl></div><div class='xr-var-data'><pre>[4990464 values with dtype=float32]</pre></div></li><li class='xr-var-item'><div class='xr-var-name'><span>V850</span></div><div class='xr-var-dims'>(time, lat, lon)</div><div class='xr-var-dtype'>float32</div><div class='xr-var-preview xr-preview'>...</div><input id='attrs-e25c4b93-c080-4aa8-ab61-83e1fd61d4ed' class='xr-var-attrs-in' type='checkbox' ><label for='attrs-e25c4b93-c080-4aa8-ab61-83e1fd61d4ed' title='Show/Hide attributes'><svg class='icon xr-icon-file-text2'><use xlink:href='#icon-file-text2'></use></svg></label><input id='data-8618994a-f4a6-4f59-93e8-62bc122562a8' class='xr-var-data-in' type='checkbox'><label for='data-8618994a-f4a6-4f59-93e8-62bc122562a8' title='Show/Hide data repr'><svg class='icon xr-icon-database'><use xlink:href='#icon-database'></use></svg></label><div class='xr-var-attrs'><dl class='xr-attrs'><dt><span>long_name :</span></dt><dd>northward_wind_at_850_hPa</dd><dt><span>units :</span></dt><dd>m s-1</dd><dt><span>fmissing_value :</span></dt><dd>1000000000000000.0</dd><dt><span>standard_name :</span></dt><dd>northward_wind_at_850_hPa</dd><dt><span>vmax :</span></dt><dd>1000000000000000.0</dd><dt><span>vmin :</span></dt><dd>-1000000000000000.0</dd><dt><span>valid_range :</span></dt><dd>[-1.e+15  1.e+15]</dd></dl></div><div class='xr-var-data'><pre>[4990464 values with dtype=float32]</pre></div></li><li class='xr-var-item'><div class='xr-var-name'><span>ZLCL</span></div><div class='xr-var-dims'>(time, lat, lon)</div><div class='xr-var-dtype'>float32</div><div class='xr-var-preview xr-preview'>...</div><input id='attrs-92a81744-1266-40a0-98bd-46ebcf5c48eb' class='xr-var-attrs-in' type='checkbox' ><label for='attrs-92a81744-1266-40a0-98bd-46ebcf5c48eb' title='Show/Hide attributes'><svg class='icon xr-icon-file-text2'><use xlink:href='#icon-file-text2'></use></svg></label><input id='data-47a2bede-1138-4e84-8fc3-886fe6561a23' class='xr-var-data-in' type='checkbox'><label for='data-47a2bede-1138-4e84-8fc3-886fe6561a23' title='Show/Hide data repr'><svg class='icon xr-icon-database'><use xlink:href='#icon-database'></use></svg></label><div class='xr-var-attrs'><dl class='xr-attrs'><dt><span>long_name :</span></dt><dd>lifting_condensation_level</dd><dt><span>units :</span></dt><dd>m</dd><dt><span>fmissing_value :</span></dt><dd>1000000000000000.0</dd><dt><span>standard_name :</span></dt><dd>lifting_condensation_level</dd><dt><span>vmax :</span></dt><dd>1000000000000000.0</dd><dt><span>vmin :</span></dt><dd>-1000000000000000.0</dd><dt><span>valid_range :</span></dt><dd>[-1.e+15  1.e+15]</dd></dl></div><div class='xr-var-data'><pre>[4990464 values with dtype=float32]</pre></div></li></ul></div></li><li class='xr-section-item'><input id='section-f2968451-f4a5-430e-bc2b-5a40c7a70877' class='xr-section-summary-in' type='checkbox'  ><label for='section-f2968451-f4a5-430e-bc2b-5a40c7a70877' class='xr-section-summary' >Attributes: <span>(30)</span></label><div class='xr-section-inline-details'></div><div class='xr-section-details'><dl class='xr-attrs'><dt><span>History :</span></dt><dd>Original file generated: Wed Oct  1 13:27:16 2014 GMT</dd><dt><span>Comment :</span></dt><dd>GMAO filename: d5124_m2_jan10.tavg1_2d_slv_Nx.20130531.nc4</dd><dt><span>Filename :</span></dt><dd>MERRA2_400.tavg1_2d_slv_Nx.20130531.nc4</dd><dt><span>Conventions :</span></dt><dd>CF-1</dd><dt><span>Institution :</span></dt><dd>NASA Global Modeling and Assimilation Office</dd><dt><span>References :</span></dt><dd>http://gmao.gsfc.nasa.gov</dd><dt><span>Format :</span></dt><dd>NetCDF-4/HDF-5</dd><dt><span>SpatialCoverage :</span></dt><dd>global</dd><dt><span>VersionID :</span></dt><dd>5.12.4</dd><dt><span>TemporalRange :</span></dt><dd>1980-01-01 -&gt; 2016-12-31</dd><dt><span>identifier_product_doi_authority :</span></dt><dd>http://dx.doi.org/</dd><dt><span>ShortName :</span></dt><dd>M2T1NXSLV</dd><dt><span>GranuleID :</span></dt><dd>MERRA2_400.tavg1_2d_slv_Nx.20130531.nc4</dd><dt><span>ProductionDateTime :</span></dt><dd>Original file generated: Wed Oct  1 13:27:16 2014 GMT</dd><dt><span>LongName :</span></dt><dd>MERRA2 tavg1_2d_slv_Nx: 2d,1-Hourly,Time-Averaged,Single-Level,Assimilation,Single-Level Diagnostics</dd><dt><span>Title :</span></dt><dd>MERRA2 tavg1_2d_slv_Nx: 2d,1-Hourly,Time-Averaged,Single-Level,Assimilation,Single-Level Diagnostics</dd><dt><span>SouthernmostLatitude :</span></dt><dd>-90.0</dd><dt><span>NorthernmostLatitude :</span></dt><dd>90.0</dd><dt><span>WesternmostLongitude :</span></dt><dd>-180.0</dd><dt><span>EasternmostLongitude :</span></dt><dd>179.375</dd><dt><span>LatitudeResolution :</span></dt><dd>0.5</dd><dt><span>LongitudeResolution :</span></dt><dd>0.625</dd><dt><span>DataResolution :</span></dt><dd>0.5 x 0.625</dd><dt><span>Source :</span></dt><dd>CVS tag: GEOSadas-5_12_4</dd><dt><span>Contact :</span></dt><dd>http://gmao.gsfc.nasa.gov</dd><dt><span>identifier_product_doi :</span></dt><dd>10.5067/VJAFPLI1CSIV</dd><dt><span>RangeBeginningDate :</span></dt><dd>2013-05-31</dd><dt><span>RangeBeginningTime :</span></dt><dd>00:00:00.000000</dd><dt><span>RangeEndingDate :</span></dt><dd>2013-05-31</dd><dt><span>RangeEndingTime :</span></dt><dd>23:59:59.000000</dd></dl></div></li></ul></div></div>"
      ],
      "text/plain": [
       "<xarray.Dataset>\n",
       "Dimensions:   (lon: 576, lat: 361, time: 24)\n",
       "Coordinates:\n",
       "  * lon       (lon) float64 -180.0 -179.4 -178.8 -178.1 ... 178.1 178.8 179.4\n",
       "  * lat       (lat) float64 -90.0 -89.5 -89.0 -88.5 ... 88.5 89.0 89.5 90.0\n",
       "  * time      (time) datetime64[ns] 2013-05-31T00:30:00 ... 2013-05-31T23:30:00\n",
       "Data variables: (12/47)\n",
       "    CLDPRS    (time, lat, lon) float32 ...\n",
       "    CLDTMP    (time, lat, lon) float32 ...\n",
       "    DISPH     (time, lat, lon) float32 ...\n",
       "    H1000     (time, lat, lon) float32 ...\n",
       "    H250      (time, lat, lon) float32 ...\n",
       "    H500      (time, lat, lon) float32 ...\n",
       "    ...        ...\n",
       "    V250      (time, lat, lon) float32 ...\n",
       "    V2M       (time, lat, lon) float32 ...\n",
       "    V500      (time, lat, lon) float32 ...\n",
       "    V50M      (time, lat, lon) float32 ...\n",
       "    V850      (time, lat, lon) float32 ...\n",
       "    ZLCL      (time, lat, lon) float32 ...\n",
       "Attributes: (12/30)\n",
       "    History:                           Original file generated: Wed Oct  1 13...\n",
       "    Comment:                           GMAO filename: d5124_m2_jan10.tavg1_2d...\n",
       "    Filename:                          MERRA2_400.tavg1_2d_slv_Nx.20130531.nc4\n",
       "    Conventions:                       CF-1\n",
       "    Institution:                       NASA Global Modeling and Assimilation ...\n",
       "    References:                        http://gmao.gsfc.nasa.gov\n",
       "    ...                                ...\n",
       "    Contact:                           http://gmao.gsfc.nasa.gov\n",
       "    identifier_product_doi:            10.5067/VJAFPLI1CSIV\n",
       "    RangeBeginningDate:                2013-05-31\n",
       "    RangeBeginningTime:                00:00:00.000000\n",
       "    RangeEndingDate:                   2013-05-31\n",
       "    RangeEndingTime:                   23:59:59.000000"
      ]
     },
     "execution_count": 8,
     "metadata": {},
     "output_type": "execute_result"
    }
   ],
   "source": [
    "ds_merra_s3 = xr.open_dataset(fs.open(merra_s3_link))\n",
    "ds_merra_s3"
   ]
  },
  {
   "cell_type": "markdown",
   "id": "banner-documentary",
   "metadata": {
    "id": "banner-documentary"
   },
   "source": [
    "### Additional Exercise: Compare On-prem and S3 granules:\n",
    "\n",
    "Xarray's <code>equals()</code> function can be called to compare any two Xarray data objects, or in this case, for seeing if the on-prem and S3 granules have identical data:"
   ]
  },
  {
   "cell_type": "code",
   "execution_count": 9,
   "id": "prescription-arbor",
   "metadata": {
    "id": "prescription-arbor",
    "outputId": "08c2aa61-8463-4d01-cdcd-ce3759042b5d"
   },
   "outputs": [
    {
     "name": "stdout",
     "output_type": "stream",
     "text": [
      "The on-prem and S3 datasets are equal and intact!\n"
     ]
    }
   ],
   "source": [
    "ds_merra_on_prem = xr.open_dataset(merra_opendap_link)\n",
    "\n",
    "# Always use equals() for checking if Xarray datasets are identical\n",
    "if ds_merra_s3.equals(ds_merra_on_prem):\n",
    "    print('The on-prem and S3 datasets are equal and intact!')"
   ]
  },
  {
   "cell_type": "code",
   "execution_count": null,
   "id": "veterinary-orchestra",
   "metadata": {
    "id": "veterinary-orchestra"
   },
   "outputs": [],
   "source": []
  }
 ],
 "metadata": {
  "colab": {
   "name": "CMR_Cloud_Search.ipynb",
   "provenance": []
  },
  "kernelspec": {
   "display_name": "Python 3",
   "language": "python",
   "name": "python3"
  },
  "language_info": {
   "codemirror_mode": {
    "name": "ipython",
    "version": 3
   },
   "file_extension": ".py",
   "mimetype": "text/x-python",
   "name": "python",
   "nbconvert_exporter": "python",
   "pygments_lexer": "ipython3",
   "version": "3.8.8"
  }
 },
 "nbformat": 4,
 "nbformat_minor": 5
}
